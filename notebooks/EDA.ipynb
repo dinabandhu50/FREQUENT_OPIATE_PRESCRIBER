{
 "cells": [
  {
   "cell_type": "markdown",
   "metadata": {},
   "source": [
    "# Frequent opiate prescriber"
   ]
  },
  {
   "cell_type": "code",
   "execution_count": 1,
   "metadata": {},
   "outputs": [],
   "source": [
    "import pandas as pd \n",
    "import numpy as np \n",
    "import matplotlib.pyplot as plt\n",
    "import seaborn as sns\n",
    "\n",
    "import preprocess as pp\n",
    "\n",
    "sns.set(style=\"darkgrid\")"
   ]
  },
  {
   "cell_type": "code",
   "execution_count": 2,
   "metadata": {},
   "outputs": [],
   "source": [
    "data = pd.read_csv('../data/prescriber-info.csv')"
   ]
  },
  {
   "cell_type": "code",
   "execution_count": 3,
   "metadata": {},
   "outputs": [
    {
     "data": {
      "text/html": [
       "<div>\n",
       "<style scoped>\n",
       "    .dataframe tbody tr th:only-of-type {\n",
       "        vertical-align: middle;\n",
       "    }\n",
       "\n",
       "    .dataframe tbody tr th {\n",
       "        vertical-align: top;\n",
       "    }\n",
       "\n",
       "    .dataframe thead th {\n",
       "        text-align: right;\n",
       "    }\n",
       "</style>\n",
       "<table border=\"1\" class=\"dataframe\">\n",
       "  <thead>\n",
       "    <tr style=\"text-align: right;\">\n",
       "      <th></th>\n",
       "      <th>NPI</th>\n",
       "      <th>Gender</th>\n",
       "      <th>State</th>\n",
       "      <th>Credentials</th>\n",
       "      <th>Specialty</th>\n",
       "      <th>ABILIFY</th>\n",
       "      <th>ACETAMINOPHEN.CODEINE</th>\n",
       "      <th>ACYCLOVIR</th>\n",
       "      <th>ADVAIR.DISKUS</th>\n",
       "      <th>AGGRENOX</th>\n",
       "      <th>...</th>\n",
       "      <th>VERAPAMIL.ER</th>\n",
       "      <th>VESICARE</th>\n",
       "      <th>VOLTAREN</th>\n",
       "      <th>VYTORIN</th>\n",
       "      <th>WARFARIN.SODIUM</th>\n",
       "      <th>XARELTO</th>\n",
       "      <th>ZETIA</th>\n",
       "      <th>ZIPRASIDONE.HCL</th>\n",
       "      <th>ZOLPIDEM.TARTRATE</th>\n",
       "      <th>Opioid.Prescriber</th>\n",
       "    </tr>\n",
       "  </thead>\n",
       "  <tbody>\n",
       "    <tr>\n",
       "      <th>0</th>\n",
       "      <td>1710982582</td>\n",
       "      <td>M</td>\n",
       "      <td>TX</td>\n",
       "      <td>DDS</td>\n",
       "      <td>Dentist</td>\n",
       "      <td>0</td>\n",
       "      <td>0</td>\n",
       "      <td>0</td>\n",
       "      <td>0</td>\n",
       "      <td>0</td>\n",
       "      <td>...</td>\n",
       "      <td>0</td>\n",
       "      <td>0</td>\n",
       "      <td>0</td>\n",
       "      <td>0</td>\n",
       "      <td>0</td>\n",
       "      <td>0</td>\n",
       "      <td>0</td>\n",
       "      <td>0</td>\n",
       "      <td>0</td>\n",
       "      <td>1</td>\n",
       "    </tr>\n",
       "    <tr>\n",
       "      <th>1</th>\n",
       "      <td>1245278100</td>\n",
       "      <td>F</td>\n",
       "      <td>AL</td>\n",
       "      <td>MD</td>\n",
       "      <td>General Surgery</td>\n",
       "      <td>0</td>\n",
       "      <td>0</td>\n",
       "      <td>0</td>\n",
       "      <td>0</td>\n",
       "      <td>0</td>\n",
       "      <td>...</td>\n",
       "      <td>0</td>\n",
       "      <td>0</td>\n",
       "      <td>0</td>\n",
       "      <td>0</td>\n",
       "      <td>0</td>\n",
       "      <td>0</td>\n",
       "      <td>0</td>\n",
       "      <td>0</td>\n",
       "      <td>35</td>\n",
       "      <td>1</td>\n",
       "    </tr>\n",
       "    <tr>\n",
       "      <th>2</th>\n",
       "      <td>1427182161</td>\n",
       "      <td>F</td>\n",
       "      <td>NY</td>\n",
       "      <td>M.D.</td>\n",
       "      <td>General Practice</td>\n",
       "      <td>0</td>\n",
       "      <td>0</td>\n",
       "      <td>0</td>\n",
       "      <td>0</td>\n",
       "      <td>0</td>\n",
       "      <td>...</td>\n",
       "      <td>0</td>\n",
       "      <td>0</td>\n",
       "      <td>0</td>\n",
       "      <td>0</td>\n",
       "      <td>0</td>\n",
       "      <td>0</td>\n",
       "      <td>0</td>\n",
       "      <td>0</td>\n",
       "      <td>25</td>\n",
       "      <td>0</td>\n",
       "    </tr>\n",
       "    <tr>\n",
       "      <th>3</th>\n",
       "      <td>1669567541</td>\n",
       "      <td>M</td>\n",
       "      <td>AZ</td>\n",
       "      <td>MD</td>\n",
       "      <td>Internal Medicine</td>\n",
       "      <td>0</td>\n",
       "      <td>43</td>\n",
       "      <td>0</td>\n",
       "      <td>0</td>\n",
       "      <td>0</td>\n",
       "      <td>...</td>\n",
       "      <td>0</td>\n",
       "      <td>0</td>\n",
       "      <td>0</td>\n",
       "      <td>0</td>\n",
       "      <td>0</td>\n",
       "      <td>0</td>\n",
       "      <td>0</td>\n",
       "      <td>0</td>\n",
       "      <td>0</td>\n",
       "      <td>1</td>\n",
       "    </tr>\n",
       "    <tr>\n",
       "      <th>4</th>\n",
       "      <td>1679650949</td>\n",
       "      <td>M</td>\n",
       "      <td>NV</td>\n",
       "      <td>M.D.</td>\n",
       "      <td>Hematology/Oncology</td>\n",
       "      <td>0</td>\n",
       "      <td>0</td>\n",
       "      <td>0</td>\n",
       "      <td>0</td>\n",
       "      <td>0</td>\n",
       "      <td>...</td>\n",
       "      <td>0</td>\n",
       "      <td>0</td>\n",
       "      <td>0</td>\n",
       "      <td>0</td>\n",
       "      <td>17</td>\n",
       "      <td>28</td>\n",
       "      <td>0</td>\n",
       "      <td>0</td>\n",
       "      <td>0</td>\n",
       "      <td>1</td>\n",
       "    </tr>\n",
       "  </tbody>\n",
       "</table>\n",
       "<p>5 rows × 256 columns</p>\n",
       "</div>"
      ],
      "text/plain": [
       "          NPI Gender State Credentials            Specialty  ABILIFY  \\\n",
       "0  1710982582      M    TX         DDS              Dentist        0   \n",
       "1  1245278100      F    AL          MD      General Surgery        0   \n",
       "2  1427182161      F    NY        M.D.     General Practice        0   \n",
       "3  1669567541      M    AZ          MD    Internal Medicine        0   \n",
       "4  1679650949      M    NV        M.D.  Hematology/Oncology        0   \n",
       "\n",
       "   ACETAMINOPHEN.CODEINE  ACYCLOVIR  ADVAIR.DISKUS  AGGRENOX  ...  \\\n",
       "0                      0          0              0         0  ...   \n",
       "1                      0          0              0         0  ...   \n",
       "2                      0          0              0         0  ...   \n",
       "3                     43          0              0         0  ...   \n",
       "4                      0          0              0         0  ...   \n",
       "\n",
       "   VERAPAMIL.ER  VESICARE  VOLTAREN  VYTORIN  WARFARIN.SODIUM  XARELTO  ZETIA  \\\n",
       "0             0         0         0        0                0        0      0   \n",
       "1             0         0         0        0                0        0      0   \n",
       "2             0         0         0        0                0        0      0   \n",
       "3             0         0         0        0                0        0      0   \n",
       "4             0         0         0        0               17       28      0   \n",
       "\n",
       "   ZIPRASIDONE.HCL  ZOLPIDEM.TARTRATE  Opioid.Prescriber  \n",
       "0                0                  0                  1  \n",
       "1                0                 35                  1  \n",
       "2                0                 25                  0  \n",
       "3                0                  0                  1  \n",
       "4                0                  0                  1  \n",
       "\n",
       "[5 rows x 256 columns]"
      ]
     },
     "execution_count": 3,
     "metadata": {},
     "output_type": "execute_result"
    }
   ],
   "source": [
    "data.head()"
   ]
  },
  {
   "cell_type": "markdown",
   "metadata": {},
   "source": [
    "## Variable Separation"
   ]
  },
  {
   "cell_type": "code",
   "execution_count": 4,
   "metadata": {},
   "outputs": [],
   "source": [
    "uniq_cols = ['NPI']"
   ]
  },
  {
   "cell_type": "code",
   "execution_count": 5,
   "metadata": {
    "tags": []
   },
   "outputs": [
    {
     "data": {
      "text/plain": [
       "['Gender', 'State', 'Credentials', 'Specialty']"
      ]
     },
     "execution_count": 5,
     "metadata": {},
     "output_type": "execute_result"
    }
   ],
   "source": [
    "cat_cols = list(data.columns[1:5])\n",
    "cat_cols"
   ]
  },
  {
   "cell_type": "code",
   "execution_count": 6,
   "metadata": {},
   "outputs": [],
   "source": [
    "num_cols = list(data.columns[5:-1])\n",
    "num_cols;"
   ]
  },
  {
   "cell_type": "code",
   "execution_count": 7,
   "metadata": {},
   "outputs": [
    {
     "data": {
      "text/plain": [
       "['Opioid.Prescriber']"
      ]
     },
     "execution_count": 7,
     "metadata": {},
     "output_type": "execute_result"
    }
   ],
   "source": [
    "target = [data.columns[-1]]\n",
    "target"
   ]
  },
  {
   "cell_type": "markdown",
   "metadata": {},
   "source": [
    "## Categorical Variable Analysis & EDA"
   ]
  },
  {
   "cell_type": "markdown",
   "metadata": {},
   "source": [
    "### Missing values"
   ]
  },
  {
   "cell_type": "code",
   "execution_count": 8,
   "metadata": {},
   "outputs": [
    {
     "data": {
      "text/plain": [
       "Gender           0\n",
       "State            0\n",
       "Credentials    763\n",
       "Specialty        0\n",
       "dtype: int64"
      ]
     },
     "execution_count": 8,
     "metadata": {},
     "output_type": "execute_result"
    }
   ],
   "source": [
    "# chcking for missing values\n",
    "data[cat_cols].isnull().sum()"
   ]
  },
  {
   "cell_type": "code",
   "execution_count": 9,
   "metadata": {},
   "outputs": [
    {
     "data": {
      "text/plain": [
       "Gender         0.000\n",
       "State          0.000\n",
       "Credentials    3.052\n",
       "Specialty      0.000\n",
       "dtype: float64"
      ]
     },
     "execution_count": 9,
     "metadata": {},
     "output_type": "execute_result"
    }
   ],
   "source": [
    "# checking for missing value percentage\n",
    "data[cat_cols].isnull().sum()/data.shape[0] *100"
   ]
  },
  {
   "cell_type": "code",
   "execution_count": 10,
   "metadata": {},
   "outputs": [
    {
     "data": {
      "text/plain": [
       "0"
      ]
     },
     "execution_count": 10,
     "metadata": {},
     "output_type": "execute_result"
    }
   ],
   "source": [
    "# checking for null value in drugs column\n",
    "data[num_cols].isnull().sum().sum()"
   ]
  },
  {
   "cell_type": "code",
   "execution_count": 11,
   "metadata": {},
   "outputs": [
    {
     "data": {
      "text/plain": [
       "25000"
      ]
     },
     "execution_count": 11,
     "metadata": {},
     "output_type": "execute_result"
    }
   ],
   "source": [
    "data['NPI'].nunique()"
   ]
  },
  {
   "cell_type": "markdown",
   "metadata": {},
   "source": [
    "Remarks:\n",
    "\n",
    "1. We dont need `NPI` column it has all unique values.\n",
    "2. The `Credentials` column has missing values ~3% of total.\n",
    "<!-- 3. All the `med_clos` are sparse in nature -->"
   ]
  },
  {
   "cell_type": "markdown",
   "metadata": {},
   "source": [
    "### Basic plots"
   ]
  },
  {
   "cell_type": "code",
   "execution_count": 12,
   "metadata": {},
   "outputs": [
    {
     "data": {
      "text/plain": [
       "0      23833\n",
       "11       148\n",
       "12       122\n",
       "13       112\n",
       "14        93\n",
       "       ...  \n",
       "53         1\n",
       "356        1\n",
       "147        1\n",
       "99         1\n",
       "79         1\n",
       "Name: ACYCLOVIR, Length: 81, dtype: int64"
      ]
     },
     "execution_count": 12,
     "metadata": {},
     "output_type": "execute_result"
    }
   ],
   "source": [
    "data[num_cols].iloc[:,2].value_counts()"
   ]
  },
  {
   "cell_type": "code",
   "execution_count": 13,
   "metadata": {},
   "outputs": [
    {
     "data": {
      "text/plain": [
       "['Gender', 'State', 'Credentials', 'Specialty']"
      ]
     },
     "execution_count": 13,
     "metadata": {},
     "output_type": "execute_result"
    }
   ],
   "source": [
    "cat_cols"
   ]
  },
  {
   "cell_type": "code",
   "execution_count": 14,
   "metadata": {},
   "outputs": [
    {
     "name": "stdout",
     "output_type": "stream",
     "text": [
      "-------------------------\n",
      "CA    2562\n",
      "NY    1956\n",
      "FL    1570\n",
      "TX    1500\n",
      "PA    1211\n",
      "IL    1002\n",
      "OH     981\n",
      "MI     872\n",
      "NC     778\n",
      "MA     725\n",
      "NJ     649\n",
      "GA     613\n",
      "WA     578\n",
      "VA     568\n",
      "TN     552\n",
      "IN     533\n",
      "AZ     509\n",
      "MD     509\n",
      "WI     498\n",
      "MO     483\n",
      "MN     448\n",
      "CO     393\n",
      "SC     390\n",
      "CT     388\n",
      "KY     367\n",
      "LA     354\n",
      "AL     344\n",
      "OR     344\n",
      "OK     281\n",
      "PR     231\n",
      "IA     225\n",
      "AR     216\n",
      "KS     203\n",
      "WV     199\n",
      "MS     193\n",
      "NM     166\n",
      "UT     162\n",
      "NV     155\n",
      "ME     147\n",
      "NE     137\n",
      "ID     133\n",
      "NH     119\n",
      "RI     117\n",
      "HI      91\n",
      "DE      91\n",
      "SD      83\n",
      "DC      79\n",
      "MT      77\n",
      "ND      66\n",
      "VT      65\n",
      "AK      39\n",
      "WY      38\n",
      "VI       3\n",
      "AE       2\n",
      "GU       2\n",
      "ZZ       2\n",
      "AA       1\n",
      "Name: State, dtype: int64\n",
      "-------------------------\n",
      "MD                 7034\n",
      "M.D.               6772\n",
      "DDS                1145\n",
      "D.O.                866\n",
      "PA-C                845\n",
      "                   ... \n",
      "RN, FNP-BC            1\n",
      "P.A.,C.               1\n",
      "DNP / FNP             1\n",
      "DNP, APRN, NP-C       1\n",
      "DC                    1\n",
      "Name: Credentials, Length: 887, dtype: int64\n",
      "-------------------------\n",
      "Internal Medicine                3194\n",
      "Family Practice                  2975\n",
      "Dentist                          2800\n",
      "Nurse Practitioner               2512\n",
      "Physician Assistant              1839\n",
      "                                 ... \n",
      "Pharmacy Technician                 1\n",
      "Unknown Supplier/Provider           1\n",
      "Slide Preparation Facility          1\n",
      "Military Health Care Provider       1\n",
      "Chiropractic                        1\n",
      "Name: Specialty, Length: 109, dtype: int64\n"
     ]
    }
   ],
   "source": [
    "for item in cat_cols[1:]:\n",
    "    print('-'*25)\n",
    "    print(data[item].value_counts())\n"
   ]
  },
  {
   "cell_type": "code",
   "execution_count": 15,
   "metadata": {},
   "outputs": [
    {
     "data": {
      "text/plain": [
       "['Gender', 'State', 'Credentials', 'Specialty']"
      ]
     },
     "execution_count": 15,
     "metadata": {},
     "output_type": "execute_result"
    }
   ],
   "source": [
    "cat_cols"
   ]
  },
  {
   "cell_type": "code",
   "execution_count": 16,
   "metadata": {},
   "outputs": [],
   "source": [
    "# Gender analysis"
   ]
  },
  {
   "cell_type": "code",
   "execution_count": 17,
   "metadata": {},
   "outputs": [
    {
     "data": {
      "image/png": "[encoded data removed]",
      "text/plain": [
       "<Figure size 504x360 with 1 Axes>"
      ]
     },
     "metadata": {},
     "output_type": "display_data"
    }
   ],
   "source": [
    "plt.figure(figsize=(7,5))\n",
    "sns.countplot(data=data,x='Gender')\n",
    "plt.title('Count plot of Gender column')\n",
    "plt.show()"
   ]
  },
  {
   "cell_type": "code",
   "execution_count": 18,
   "metadata": {},
   "outputs": [],
   "source": [
    "# State column"
   ]
  },
  {
   "cell_type": "code",
   "execution_count": 19,
   "metadata": {
    "scrolled": true
   },
   "outputs": [
    {
     "data": {
      "image/png": "[encoded data removed]",
      "text/plain": [
       "<Figure size 1080x360 with 1 Axes>"
      ]
     },
     "metadata": {},
     "output_type": "display_data"
    }
   ],
   "source": [
    "plt.figure(figsize=(15,5))\n",
    "sns.countplot(data=data,x='State')\n",
    "plt.title('Count plot of State column')\n",
    "plt.show()"
   ]
  },
  {
   "cell_type": "code",
   "execution_count": 20,
   "metadata": {},
   "outputs": [],
   "source": [
    "# lets check out `Speciality` column"
   ]
  },
  {
   "cell_type": "code",
   "execution_count": 21,
   "metadata": {},
   "outputs": [
    {
     "data": {
      "text/plain": [
       "109"
      ]
     },
     "execution_count": 21,
     "metadata": {},
     "output_type": "execute_result"
    }
   ],
   "source": [
    "data['Specialty'].nunique()"
   ]
  },
  {
   "cell_type": "code",
   "execution_count": 22,
   "metadata": {},
   "outputs": [
    {
     "data": {
      "image/png": "[encoded data removed]",
      "text/plain": [
       "<Figure size 1440x360 with 1 Axes>"
      ]
     },
     "metadata": {},
     "output_type": "display_data"
    }
   ],
   "source": [
    "plt.figure(figsize=(20,5))\n",
    "sns.countplot(data=data,x='Specialty')\n",
    "plt.title('Count plot of Specialty column')\n",
    "plt.xticks(rotation=90)\n",
    "plt.show()"
   ]
  },
  {
   "cell_type": "code",
   "execution_count": 23,
   "metadata": {
    "scrolled": false
   },
   "outputs": [
    {
     "data": {
      "text/plain": [
       "Internal Medicine                                                 3194\n",
       "Family Practice                                                   2975\n",
       "Dentist                                                           2800\n",
       "Nurse Practitioner                                                2512\n",
       "Physician Assistant                                               1839\n",
       "Emergency Medicine                                                1087\n",
       "Psychiatry                                                         691\n",
       "Cardiology                                                         688\n",
       "Obstetrics/Gynecology                                              615\n",
       "Orthopedic Surgery                                                 575\n",
       "Optometry                                                          571\n",
       "Student in an Organized Health Care Education/Training Program     547\n",
       "Ophthalmology                                                      519\n",
       "General Surgery                                                    487\n",
       "Gastroenterology                                                   399\n",
       "Neurology                                                          371\n",
       "Podiatry                                                           369\n",
       "Dermatology                                                        344\n",
       "Urology                                                            328\n",
       "Psychiatry & Neurology                                             266\n",
       "Name: Specialty, dtype: int64"
      ]
     },
     "execution_count": 23,
     "metadata": {},
     "output_type": "execute_result"
    }
   ],
   "source": [
    "data['Specialty'].value_counts()[:20]"
   ]
  },
  {
   "cell_type": "code",
   "execution_count": 24,
   "metadata": {},
   "outputs": [],
   "source": [
    "# filling missing values with mean"
   ]
  },
  {
   "cell_type": "code",
   "execution_count": 25,
   "metadata": {},
   "outputs": [
    {
     "data": {
      "text/plain": [
       "887"
      ]
     },
     "execution_count": 25,
     "metadata": {},
     "output_type": "execute_result"
    }
   ],
   "source": [
    "data['Credentials'].nunique()"
   ]
  },
  {
   "cell_type": "code",
   "execution_count": 26,
   "metadata": {},
   "outputs": [],
   "source": [
    "data['Credentials'].value_counts()[:50];"
   ]
  },
  {
   "cell_type": "code",
   "execution_count": 27,
   "metadata": {},
   "outputs": [
    {
     "data": {
      "text/plain": [
       "TextPreprocess(variables=['Credentials'])"
      ]
     },
     "execution_count": 27,
     "metadata": {},
     "output_type": "execute_result"
    }
   ],
   "source": [
    "tpp = pp.TextPreprocess('Credentials')\n",
    "tpp.fit(data)"
   ]
  },
  {
   "cell_type": "code",
   "execution_count": 28,
   "metadata": {},
   "outputs": [],
   "source": [
    "data['Credentials'] = tpp.transform(data)['Credentials']"
   ]
  },
  {
   "cell_type": "code",
   "execution_count": 29,
   "metadata": {},
   "outputs": [
    {
     "data": {
      "text/plain": [
       "729"
      ]
     },
     "execution_count": 29,
     "metadata": {},
     "output_type": "execute_result"
    }
   ],
   "source": [
    "data['Credentials'].nunique()"
   ]
  },
  {
   "cell_type": "code",
   "execution_count": 30,
   "metadata": {},
   "outputs": [],
   "source": [
    "data['Credentials'].value_counts()[100:150];"
   ]
  },
  {
   "cell_type": "markdown",
   "metadata": {},
   "source": [
    "In `credentials` we can do lot more\n",
    "\n",
    "1. The credentals column have multiple occupation in the same row.\n",
    "2. \\[PHD, MD\\] and \\[MD, PHD\\] are treated differently.\n",
    "3. P,A, is treated different from P.A and PA\n",
    "4. MD ----- M.D. , M.D, M D, MD\\` \n",
    "5. This column is a mess"
   ]
  },
  {
   "cell_type": "code",
   "execution_count": 31,
   "metadata": {},
   "outputs": [
    {
     "data": {
      "text/plain": [
       "['Gender', 'State', 'Credentials', 'Specialty']"
      ]
     },
     "execution_count": 31,
     "metadata": {},
     "output_type": "execute_result"
    }
   ],
   "source": [
    "cat_cols"
   ]
  },
  {
   "cell_type": "markdown",
   "metadata": {},
   "source": [
    "Remarks:\n",
    "\n",
    "1. We don't need `Credentials` column which is a real mess, the `Specialty` column has the same information as of `Credentials`. \n",
    "\n",
    "2. Cat Features to remove - `NPI`, `Credentials`  \n",
    "\n",
    "3. Cat Features to keep - `Gender`, `State`, `Speciality`   \n",
    "\n",
    "4. Cat encoder pipeline - \n",
    "    1. Gender - normal 1/0 encoding using category_encoders\n",
    "    2. State - Frequency encoding using category_encoders\n",
    "    3. Speciality - Target encoding "
   ]
  },
  {
   "cell_type": "markdown",
   "metadata": {},
   "source": [
    "### Numerical Variable Analysis & Engineering"
   ]
  },
  {
   "cell_type": "code",
   "execution_count": 32,
   "metadata": {},
   "outputs": [
    {
     "name": "stdout",
     "output_type": "stream",
     "text": [
      "-------------------------\n",
      "frequency - 208\n",
      "-------------------------\n",
      "frequency - 123\n",
      "-------------------------\n",
      "frequency - 81\n",
      "-------------------------\n",
      "frequency - 230\n",
      "-------------------------\n",
      "frequency - 72\n",
      "-------------------------\n",
      "frequency - 268\n",
      "-------------------------\n",
      "frequency - 255\n",
      "-------------------------\n",
      "frequency - 420\n",
      "-------------------------\n",
      "frequency - 145\n",
      "-------------------------\n",
      "frequency - 148\n",
      "-------------------------\n",
      "frequency - 699\n",
      "-------------------------\n",
      "frequency - 158\n",
      "-------------------------\n",
      "frequency - 158\n",
      "-------------------------\n",
      "frequency - 106\n",
      "-------------------------\n",
      "frequency - 107\n",
      "-------------------------\n",
      "frequency - 367\n",
      "-------------------------\n",
      "frequency - 660\n",
      "-------------------------\n",
      "frequency - 130\n",
      "-------------------------\n",
      "frequency - 198\n",
      "-------------------------\n",
      "frequency - 181\n",
      "-------------------------\n",
      "frequency - 168\n",
      "-------------------------\n",
      "frequency - 186\n",
      "-------------------------\n",
      "frequency - 113\n",
      "-------------------------\n",
      "frequency - 86\n",
      "-------------------------\n",
      "frequency - 214\n",
      "-------------------------\n",
      "frequency - 95\n",
      "-------------------------\n",
      "frequency - 133\n",
      "-------------------------\n",
      "frequency - 94\n",
      "-------------------------\n",
      "frequency - 128\n",
      "-------------------------\n",
      "frequency - 155\n",
      "-------------------------\n",
      "frequency - 159\n",
      "-------------------------\n",
      "frequency - 142\n",
      "-------------------------\n",
      "frequency - 100\n",
      "-------------------------\n",
      "frequency - 198\n",
      "-------------------------\n",
      "frequency - 129\n",
      "-------------------------\n",
      "frequency - 57\n",
      "-------------------------\n",
      "frequency - 433\n",
      "-------------------------\n",
      "frequency - 90\n",
      "-------------------------\n",
      "frequency - 158\n",
      "-------------------------\n",
      "frequency - 157\n",
      "-------------------------\n",
      "frequency - 110\n",
      "-------------------------\n",
      "frequency - 119\n",
      "-------------------------\n",
      "frequency - 92\n",
      "-------------------------\n",
      "frequency - 206\n",
      "-------------------------\n",
      "frequency - 331\n",
      "-------------------------\n",
      "frequency - 69\n",
      "-------------------------\n",
      "frequency - 152\n",
      "-------------------------\n",
      "frequency - 333\n",
      "-------------------------\n",
      "frequency - 207\n",
      "-------------------------\n",
      "frequency - 434\n",
      "-------------------------\n",
      "frequency - 94\n",
      "-------------------------\n",
      "frequency - 102\n",
      "-------------------------\n",
      "frequency - 88\n",
      "-------------------------\n",
      "frequency - 295\n",
      "-------------------------\n",
      "frequency - 142\n",
      "-------------------------\n",
      "frequency - 115\n",
      "-------------------------\n",
      "frequency - 184\n",
      "-------------------------\n",
      "frequency - 139\n",
      "-------------------------\n",
      "frequency - 100\n",
      "-------------------------\n",
      "frequency - 148\n",
      "-------------------------\n",
      "frequency - 139\n",
      "-------------------------\n",
      "frequency - 104\n",
      "-------------------------\n",
      "frequency - 124\n",
      "-------------------------\n",
      "frequency - 71\n",
      "-------------------------\n",
      "frequency - 71\n",
      "-------------------------\n",
      "frequency - 184\n",
      "-------------------------\n",
      "frequency - 52\n",
      "-------------------------\n",
      "frequency - 196\n",
      "-------------------------\n",
      "frequency - 152\n",
      "-------------------------\n",
      "frequency - 354\n",
      "-------------------------\n",
      "frequency - 183\n",
      "-------------------------\n",
      "frequency - 165\n",
      "-------------------------\n",
      "frequency - 77\n",
      "-------------------------\n",
      "frequency - 109\n",
      "-------------------------\n",
      "frequency - 246\n",
      "-------------------------\n",
      "frequency - 222\n",
      "-------------------------\n",
      "frequency - 271\n",
      "-------------------------\n",
      "frequency - 116\n",
      "-------------------------\n",
      "frequency - 137\n",
      "-------------------------\n",
      "frequency - 226\n",
      "-------------------------\n",
      "frequency - 75\n",
      "-------------------------\n",
      "frequency - 237\n",
      "-------------------------\n",
      "frequency - 200\n",
      "-------------------------\n",
      "frequency - 254\n",
      "-------------------------\n",
      "frequency - 62\n",
      "-------------------------\n",
      "frequency - 91\n",
      "-------------------------\n",
      "frequency - 222\n",
      "-------------------------\n",
      "frequency - 288\n",
      "-------------------------\n",
      "frequency - 625\n",
      "-------------------------\n",
      "frequency - 496\n",
      "-------------------------\n",
      "frequency - 118\n",
      "-------------------------\n",
      "frequency - 274\n",
      "-------------------------\n",
      "frequency - 233\n",
      "-------------------------\n",
      "frequency - 122\n",
      "-------------------------\n",
      "frequency - 101\n",
      "-------------------------\n",
      "frequency - 85\n",
      "-------------------------\n",
      "frequency - 132\n",
      "-------------------------\n",
      "frequency - 148\n",
      "-------------------------\n",
      "frequency - 201\n",
      "-------------------------\n",
      "frequency - 401\n",
      "-------------------------\n",
      "frequency - 681\n",
      "-------------------------\n",
      "frequency - 87\n",
      "-------------------------\n",
      "frequency - 107\n",
      "-------------------------\n",
      "frequency - 80\n",
      "-------------------------\n",
      "frequency - 74\n",
      "-------------------------\n",
      "frequency - 187\n",
      "-------------------------\n",
      "frequency - 135\n",
      "-------------------------\n",
      "frequency - 85\n",
      "-------------------------\n",
      "frequency - 124\n",
      "-------------------------\n",
      "frequency - 264\n",
      "-------------------------\n",
      "frequency - 113\n",
      "-------------------------\n",
      "frequency - 97\n",
      "-------------------------\n",
      "frequency - 196\n",
      "-------------------------\n",
      "frequency - 136\n",
      "-------------------------\n",
      "frequency - 93\n",
      "-------------------------\n",
      "frequency - 80\n",
      "-------------------------\n",
      "frequency - 155\n",
      "-------------------------\n",
      "frequency - 98\n",
      "-------------------------\n",
      "frequency - 114\n",
      "-------------------------\n",
      "frequency - 218\n",
      "-------------------------\n",
      "frequency - 99\n",
      "-------------------------\n",
      "frequency - 191\n",
      "-------------------------\n",
      "frequency - 198\n",
      "-------------------------\n",
      "frequency - 361\n",
      "-------------------------\n",
      "frequency - 102\n",
      "-------------------------\n",
      "frequency - 102\n",
      "-------------------------\n",
      "frequency - 209\n",
      "-------------------------\n",
      "frequency - 156\n",
      "-------------------------\n",
      "frequency - 761\n",
      "-------------------------\n",
      "frequency - 117\n",
      "-------------------------\n",
      "frequency - 700\n",
      "-------------------------\n",
      "frequency - 260\n",
      "-------------------------\n",
      "frequency - 105\n",
      "-------------------------\n",
      "frequency - 329\n",
      "-------------------------\n",
      "frequency - 248\n",
      "-------------------------\n",
      "frequency - 452\n",
      "-------------------------\n",
      "frequency - 252\n",
      "-------------------------\n",
      "frequency - 98\n",
      "-------------------------\n",
      "frequency - 219\n",
      "-------------------------\n",
      "frequency - 187\n",
      "-------------------------\n",
      "frequency - 121\n",
      "-------------------------\n",
      "frequency - 295\n",
      "-------------------------\n",
      "frequency - 536\n",
      "-------------------------\n",
      "frequency - 222\n",
      "-------------------------\n",
      "frequency - 142\n",
      "-------------------------\n",
      "frequency - 82\n",
      "-------------------------\n",
      "frequency - 183\n",
      "-------------------------\n",
      "frequency - 136\n",
      "-------------------------\n",
      "frequency - 107\n",
      "-------------------------\n",
      "frequency - 82\n",
      "-------------------------\n",
      "frequency - 443\n",
      "-------------------------\n",
      "frequency - 529\n",
      "-------------------------\n",
      "frequency - 73\n",
      "-------------------------\n",
      "frequency - 263\n",
      "-------------------------\n",
      "frequency - 271\n",
      "-------------------------\n",
      "frequency - 92\n",
      "-------------------------\n",
      "frequency - 205\n",
      "-------------------------\n",
      "frequency - 116\n",
      "-------------------------\n",
      "frequency - 106\n",
      "-------------------------\n",
      "frequency - 282\n",
      "-------------------------\n",
      "frequency - 183\n",
      "-------------------------\n",
      "frequency - 148\n",
      "-------------------------\n",
      "frequency - 90\n",
      "-------------------------\n",
      "frequency - 267\n",
      "-------------------------\n",
      "frequency - 76\n",
      "-------------------------\n",
      "frequency - 76\n",
      "-------------------------\n",
      "frequency - 158\n",
      "-------------------------\n",
      "frequency - 87\n",
      "-------------------------\n",
      "frequency - 132\n",
      "-------------------------\n",
      "frequency - 104\n",
      "-------------------------\n",
      "frequency - 125\n",
      "-------------------------\n",
      "frequency - 134\n",
      "-------------------------\n",
      "frequency - 99\n",
      "-------------------------\n",
      "frequency - 222\n",
      "-------------------------\n",
      "frequency - 682\n",
      "-------------------------\n",
      "frequency - 89\n",
      "-------------------------\n",
      "frequency - 51\n",
      "-------------------------\n",
      "frequency - 74\n",
      "-------------------------\n",
      "frequency - 117\n",
      "-------------------------\n",
      "frequency - 125\n",
      "-------------------------\n",
      "frequency - 145\n",
      "-------------------------\n",
      "frequency - 312\n",
      "-------------------------\n",
      "frequency - 292\n",
      "-------------------------\n",
      "frequency - 161\n",
      "-------------------------\n",
      "frequency - 350\n",
      "-------------------------\n",
      "frequency - 176\n",
      "-------------------------\n",
      "frequency - 83\n",
      "-------------------------\n",
      "frequency - 107\n",
      "-------------------------\n",
      "frequency - 155\n",
      "-------------------------\n",
      "frequency - 208\n",
      "-------------------------\n",
      "frequency - 428\n",
      "-------------------------\n",
      "frequency - 119\n",
      "-------------------------\n",
      "frequency - 112\n",
      "-------------------------\n",
      "frequency - 436\n",
      "-------------------------\n",
      "frequency - 328\n",
      "-------------------------\n",
      "frequency - 95\n",
      "-------------------------\n",
      "frequency - 98\n",
      "-------------------------\n",
      "frequency - 252\n",
      "-------------------------\n",
      "frequency - 104\n",
      "-------------------------\n",
      "frequency - 93\n",
      "-------------------------\n",
      "frequency - 61\n",
      "-------------------------\n",
      "frequency - 314\n",
      "-------------------------\n",
      "frequency - 100\n",
      "-------------------------\n",
      "frequency - 78\n",
      "-------------------------\n",
      "frequency - 152\n",
      "-------------------------\n",
      "frequency - 122\n",
      "-------------------------\n",
      "frequency - 288\n",
      "-------------------------\n",
      "frequency - 143\n",
      "-------------------------\n",
      "frequency - 280\n",
      "-------------------------\n",
      "frequency - 149\n",
      "-------------------------\n",
      "frequency - 121\n",
      "-------------------------\n",
      "frequency - 342\n",
      "-------------------------\n",
      "frequency - 690\n",
      "-------------------------\n",
      "frequency - 117\n",
      "-------------------------\n",
      "frequency - 246\n",
      "-------------------------\n",
      "frequency - 205\n",
      "-------------------------\n",
      "frequency - 107\n",
      "-------------------------\n",
      "frequency - 139\n",
      "-------------------------\n",
      "frequency - 63\n",
      "-------------------------\n",
      "frequency - 172\n",
      "-------------------------\n",
      "frequency - 262\n",
      "-------------------------\n",
      "frequency - 414\n",
      "-------------------------\n",
      "frequency - 199\n",
      "-------------------------\n",
      "frequency - 126\n",
      "-------------------------\n",
      "frequency - 206\n",
      "-------------------------\n",
      "frequency - 188\n",
      "-------------------------\n",
      "frequency - 54\n",
      "-------------------------\n",
      "frequency - 165\n",
      "-------------------------\n",
      "frequency - 70\n",
      "-------------------------\n",
      "frequency - 122\n",
      "-------------------------\n",
      "frequency - 368\n",
      "-------------------------\n",
      "frequency - 191\n",
      "-------------------------\n",
      "frequency - 331\n",
      "-------------------------\n",
      "frequency - 175\n",
      "-------------------------\n",
      "frequency - 206\n",
      "-------------------------\n",
      "frequency - 63\n",
      "-------------------------\n",
      "frequency - 58\n",
      "-------------------------\n",
      "frequency - 174\n",
      "-------------------------\n",
      "frequency - 73\n",
      "-------------------------\n",
      "frequency - 173\n",
      "-------------------------\n",
      "frequency - 115\n",
      "-------------------------\n",
      "frequency - 105\n",
      "-------------------------\n",
      "frequency - 145\n",
      "-------------------------\n",
      "frequency - 166\n",
      "-------------------------\n",
      "frequency - 65\n",
      "-------------------------\n",
      "frequency - 459\n",
      "-------------------------\n",
      "frequency - 178\n",
      "-------------------------\n",
      "frequency - 175\n",
      "-------------------------\n",
      "frequency - 126\n",
      "-------------------------\n",
      "frequency - 288\n"
     ]
    }
   ],
   "source": [
    "for item in num_cols:\n",
    "    print('-'*25)\n",
    "    print(f'frequency - {data[item].nunique()}')\n"
   ]
  },
  {
   "cell_type": "code",
   "execution_count": null,
   "metadata": {},
   "outputs": [],
   "source": []
  },
  {
   "cell_type": "code",
   "execution_count": 33,
   "metadata": {},
   "outputs": [
    {
     "name": "stdout",
     "output_type": "stream",
     "text": [
      "Min \t Average \t Max \t Prob>0\n",
      "----------------------------------------\n",
      "0\t 3.1572 \t770 \t 0.0637\n",
      "----------------------------------------\n",
      "0\t 2.3704 \t644 \t 0.0853\n",
      "----------------------------------------\n",
      "0\t 1.0537 \t356 \t 0.0467\n",
      "----------------------------------------\n",
      "0\t 7.0410 \t1105 \t 0.1614\n",
      "----------------------------------------\n",
      "0\t 0.7084 \t275 \t 0.0317\n",
      "----------------------------------------\n",
      "0\t 8.9628 \t2431 \t 0.1728\n",
      "----------------------------------------\n",
      "0\t 9.3057 \t790 \t 0.1818\n",
      "----------------------------------------\n",
      "0\t 16.1281 \t5716 \t 0.2061\n",
      "----------------------------------------\n",
      "0\t 2.3948 \t596 \t 0.0664\n",
      "----------------------------------------\n",
      "0\t 4.3472 \t430 \t 0.1373\n",
      "----------------------------------------\n",
      "0\t 44.3146 \t2429 \t 0.3250\n",
      "----------------------------------------\n",
      "0\t 2.8432 \t665 \t 0.0798\n",
      "----------------------------------------\n",
      "0\t 6.0060 \t617 \t 0.2028\n",
      "----------------------------------------\n",
      "0\t 2.7837 \t511 \t 0.1116\n",
      "----------------------------------------\n",
      "0\t 0.9858 \t1072 \t 0.0285\n",
      "----------------------------------------\n",
      "0\t 15.7880 \t1873 \t 0.2276\n",
      "----------------------------------------\n",
      "0\t 39.5564 \t3665 \t 0.3074\n",
      "----------------------------------------\n",
      "0\t 1.5150 \t1122 \t 0.0442\n",
      "----------------------------------------\n",
      "0\t 7.5719 \t780 \t 0.2087\n",
      "----------------------------------------\n",
      "0\t 3.3026 \t611 \t 0.0886\n",
      "----------------------------------------\n",
      "0\t 3.0960 \t477 \t 0.0937\n",
      "----------------------------------------\n",
      "0\t 3.7726 \t624 \t 0.0997\n",
      "----------------------------------------\n",
      "0\t 1.6150 \t494 \t 0.0584\n",
      "----------------------------------------\n",
      "0\t 0.9588 \t359 \t 0.0386\n",
      "----------------------------------------\n",
      "0\t 2.7067 \t1800 \t 0.0442\n",
      "----------------------------------------\n",
      "0\t 0.8848 \t309 \t 0.0305\n",
      "----------------------------------------\n",
      "0\t 1.2786 \t698 \t 0.0276\n",
      "----------------------------------------\n",
      "0\t 1.1218 \t517 \t 0.0393\n",
      "----------------------------------------\n",
      "0\t 2.1952 \t306 \t 0.0765\n",
      "----------------------------------------\n",
      "0\t 2.9993 \t882 \t 0.0894\n",
      "----------------------------------------\n",
      "0\t 2.8691 \t434 \t 0.0832\n",
      "----------------------------------------\n",
      "0\t 2.3500 \t992 \t 0.0680\n",
      "----------------------------------------\n",
      "0\t 1.2618 \t324 \t 0.0472\n",
      "----------------------------------------\n",
      "0\t 2.9498 \t1242 \t 0.0576\n",
      "----------------------------------------\n",
      "0\t 1.4513 \t955 \t 0.0409\n",
      "----------------------------------------\n",
      "0\t 0.6372 \t122 \t 0.0311\n",
      "----------------------------------------\n",
      "0\t 16.6003 \t1623 \t 0.2249\n",
      "----------------------------------------\n",
      "0\t 0.8456 \t270 \t 0.0288\n",
      "----------------------------------------\n",
      "0\t 3.4250 \t412 \t 0.1054\n",
      "----------------------------------------\n",
      "0\t 4.2962 \t571 \t 0.1518\n",
      "----------------------------------------\n",
      "0\t 1.1457 \t464 \t 0.0382\n",
      "----------------------------------------\n",
      "0\t 1.3663 \t492 \t 0.0442\n",
      "----------------------------------------\n",
      "0\t 0.9022 \t331 \t 0.0343\n",
      "----------------------------------------\n",
      "0\t 7.2761 \t1260 \t 0.2100\n",
      "----------------------------------------\n",
      "0\t 12.4999 \t1380 \t 0.2101\n",
      "----------------------------------------\n",
      "0\t 1.0438 \t190 \t 0.0518\n",
      "----------------------------------------\n",
      "0\t 1.7283 \t590 \t 0.0438\n",
      "----------------------------------------\n",
      "0\t 11.2784 \t4762 \t 0.1837\n",
      "----------------------------------------\n",
      "0\t 5.4953 \t1078 \t 0.1368\n",
      "----------------------------------------\n",
      "0\t 18.1012 \t1757 \t 0.2347\n",
      "----------------------------------------\n",
      "0\t 1.2238 \t392 \t 0.0461\n",
      "----------------------------------------\n",
      "0\t 1.2981 \t271 \t 0.0486\n",
      "----------------------------------------\n",
      "0\t 1.3856 \t157 \t 0.0581\n",
      "----------------------------------------\n",
      "0\t 10.7466 \t1742 \t 0.1862\n",
      "----------------------------------------\n",
      "0\t 3.3464 \t774 \t 0.1114\n",
      "----------------------------------------\n",
      "0\t 1.5742 \t382 \t 0.0515\n",
      "----------------------------------------\n",
      "0\t 4.4573 \t2297 \t 0.1207\n",
      "----------------------------------------\n",
      "0\t 2.0304 \t679 \t 0.0600\n",
      "----------------------------------------\n",
      "0\t 1.3038 \t440 \t 0.0484\n",
      "----------------------------------------\n",
      "0\t 2.7456 \t311 \t 0.0835\n",
      "----------------------------------------\n",
      "0\t 2.3570 \t465 \t 0.0733\n",
      "----------------------------------------\n",
      "0\t 1.8271 \t300 \t 0.0685\n",
      "----------------------------------------\n",
      "0\t 2.5110 \t326 \t 0.0861\n",
      "----------------------------------------\n",
      "0\t 1.0293 \t371 \t 0.0480\n",
      "----------------------------------------\n",
      "0\t 0.8081 \t356 \t 0.0356\n",
      "----------------------------------------\n",
      "0\t 4.5984 \t1144 \t 0.1221\n",
      "----------------------------------------\n",
      "0\t 0.5467 \t116 \t 0.0277\n",
      "----------------------------------------\n",
      "0\t 3.0597 \t939 \t 0.0667\n",
      "----------------------------------------\n",
      "0\t 1.9886 \t513 \t 0.0481\n",
      "----------------------------------------\n",
      "0\t 9.9764 \t1813 \t 0.1515\n",
      "----------------------------------------\n",
      "0\t 1.8335 \t858 \t 0.0279\n",
      "----------------------------------------\n",
      "0\t 3.3642 \t1323 \t 0.0926\n",
      "----------------------------------------\n",
      "0\t 0.7875 \t765 \t 0.0323\n",
      "----------------------------------------\n",
      "0\t 2.2835 \t310 \t 0.0878\n",
      "----------------------------------------\n",
      "0\t 7.8734 \t1204 \t 0.1691\n",
      "----------------------------------------\n",
      "0\t 5.0352 \t1099 \t 0.1202\n",
      "----------------------------------------\n",
      "0\t 8.1249 \t1059 \t 0.1644\n",
      "----------------------------------------\n",
      "0\t 1.8532 \t705 \t 0.0624\n",
      "----------------------------------------\n",
      "0\t 1.5391 \t896 \t 0.0365\n",
      "----------------------------------------\n",
      "0\t 4.6361 \t1224 \t 0.1103\n",
      "----------------------------------------\n",
      "0\t 0.6960 \t413 \t 0.0282\n",
      "----------------------------------------\n",
      "0\t 6.0914 \t717 \t 0.1272\n",
      "----------------------------------------\n",
      "0\t 3.4177 \t1292 \t 0.0786\n",
      "----------------------------------------\n",
      "0\t 5.4874 \t1696 \t 0.1064\n",
      "----------------------------------------\n",
      "0\t 0.6587 \t187 \t 0.0329\n",
      "----------------------------------------\n",
      "0\t 1.8199 \t201 \t 0.0798\n",
      "----------------------------------------\n",
      "0\t 7.2282 \t1363 \t 0.1694\n",
      "----------------------------------------\n",
      "0\t 12.1769 \t2313 \t 0.2239\n",
      "----------------------------------------\n",
      "0\t 33.1264 \t3181 \t 0.3004\n",
      "----------------------------------------\n",
      "0\t 26.1796 \t1805 \t 0.3144\n",
      "----------------------------------------\n",
      "0\t 2.0210 \t955 \t 0.0704\n",
      "----------------------------------------\n",
      "0\t 6.8652 \t940 \t 0.1180\n",
      "----------------------------------------\n",
      "0\t 6.3118 \t922 \t 0.1366\n",
      "----------------------------------------\n",
      "0\t 2.0847 \t239 \t 0.0700\n",
      "----------------------------------------\n",
      "0\t 1.2196 \t268 \t 0.0463\n",
      "----------------------------------------\n",
      "0\t 1.2848 \t254 \t 0.0531\n",
      "----------------------------------------\n",
      "0\t 1.2414 \t409 \t 0.0321\n",
      "----------------------------------------\n",
      "0\t 2.1901 \t508 \t 0.0650\n",
      "----------------------------------------\n",
      "0\t 4.4926 \t722 \t 0.1113\n",
      "----------------------------------------\n",
      "0\t 21.4727 \t1134 \t 0.2735\n",
      "----------------------------------------\n",
      "0\t 38.3233 \t5249 \t 0.4018\n",
      "----------------------------------------\n",
      "0\t 0.7806 \t287 \t 0.0310\n",
      "----------------------------------------\n",
      "0\t 0.9271 \t532 \t 0.0289\n",
      "----------------------------------------\n",
      "0\t 1.0490 \t165 \t 0.0473\n",
      "----------------------------------------\n",
      "0\t 0.6863 \t273 \t 0.0299\n",
      "----------------------------------------\n",
      "0\t 5.4752 \t829 \t 0.1585\n",
      "----------------------------------------\n",
      "0\t 2.1718 \t576 \t 0.0658\n",
      "----------------------------------------\n",
      "0\t 0.7488 \t233 \t 0.0269\n",
      "----------------------------------------\n",
      "0\t 1.5318 \t761 \t 0.0483\n",
      "----------------------------------------\n",
      "0\t 6.9781 \t861 \t 0.1372\n",
      "----------------------------------------\n",
      "0\t 1.0879 \t681 \t 0.0314\n",
      "----------------------------------------\n",
      "0\t 1.0062 \t471 \t 0.0372\n",
      "----------------------------------------\n",
      "0\t 4.9468 \t755 \t 0.1167\n",
      "----------------------------------------\n",
      "0\t 1.6740 \t1337 \t 0.0480\n",
      "----------------------------------------\n",
      "0\t 1.1896 \t205 \t 0.0486\n",
      "----------------------------------------\n",
      "0\t 0.9702 \t152 \t 0.0403\n",
      "----------------------------------------\n",
      "0\t 3.2020 \t406 \t 0.0930\n",
      "----------------------------------------\n",
      "0\t 1.2828 \t434 \t 0.0481\n",
      "----------------------------------------\n",
      "0\t 1.4040 \t390 \t 0.0454\n",
      "----------------------------------------\n",
      "0\t 3.3603 \t974 \t 0.0705\n",
      "----------------------------------------\n",
      "0\t 1.8493 \t238 \t 0.0727\n",
      "----------------------------------------\n",
      "0\t 4.6093 \t534 \t 0.1178\n",
      "----------------------------------------\n",
      "0\t 4.9841 \t728 \t 0.1246\n",
      "----------------------------------------\n",
      "0\t 7.6578 \t2858 \t 0.0649\n",
      "----------------------------------------\n",
      "0\t 1.0975 \t476 \t 0.0368\n",
      "----------------------------------------\n",
      "0\t 1.4439 \t207 \t 0.0519\n",
      "----------------------------------------\n",
      "0\t 3.5700 \t705 \t 0.0806\n",
      "----------------------------------------\n",
      "0\t 4.1746 \t447 \t 0.1351\n",
      "----------------------------------------\n"
     ]
    },
    {
     "name": "stdout",
     "output_type": "stream",
     "text": [
      "0\t 45.7890 \t3300 \t 0.2975\n",
      "----------------------------------------\n",
      "0\t 1.5334 \t626 \t 0.0512\n",
      "----------------------------------------\n",
      "0\t 47.0497 \t1926 \t 0.3421\n",
      "----------------------------------------\n",
      "0\t 8.8335 \t754 \t 0.1728\n",
      "----------------------------------------\n",
      "0\t 0.9206 \t444 \t 0.0272\n",
      "----------------------------------------\n",
      "0\t 11.5414 \t1011 \t 0.1958\n",
      "----------------------------------------\n",
      "0\t 6.7295 \t1003 \t 0.1378\n",
      "----------------------------------------\n",
      "0\t 22.1488 \t2503 \t 0.2572\n",
      "----------------------------------------\n",
      "0\t 6.7808 \t4194 \t 0.1378\n",
      "----------------------------------------\n",
      "0\t 1.0840 \t655 \t 0.0370\n",
      "----------------------------------------\n",
      "0\t 2.6667 \t3605 \t 0.0323\n",
      "----------------------------------------\n",
      "0\t 4.7552 \t642 \t 0.1296\n",
      "----------------------------------------\n",
      "0\t 2.2614 \t625 \t 0.0781\n",
      "----------------------------------------\n",
      "0\t 9.5904 \t2066 \t 0.1710\n",
      "----------------------------------------\n",
      "0\t 28.6065 \t1749 \t 0.2634\n",
      "----------------------------------------\n",
      "0\t 4.8378 \t538 \t 0.1063\n",
      "----------------------------------------\n",
      "0\t 1.4327 \t725 \t 0.0346\n",
      "----------------------------------------\n",
      "0\t 0.8430 \t238 \t 0.0335\n",
      "----------------------------------------\n",
      "0\t 2.5033 \t1609 \t 0.0301\n",
      "----------------------------------------\n",
      "0\t 2.6548 \t362 \t 0.0872\n",
      "----------------------------------------\n",
      "0\t 1.4411 \t472 \t 0.0514\n",
      "----------------------------------------\n",
      "0\t 0.9418 \t396 \t 0.0365\n",
      "----------------------------------------\n",
      "0\t 20.8962 \t1136 \t 0.2454\n",
      "----------------------------------------\n",
      "0\t 26.2805 \t1510 \t 0.2810\n",
      "----------------------------------------\n",
      "0\t 1.1271 \t457 \t 0.0530\n",
      "----------------------------------------\n",
      "0\t 6.3416 \t1550 \t 0.1247\n",
      "----------------------------------------\n",
      "0\t 8.5515 \t1325 \t 0.1704\n",
      "----------------------------------------\n",
      "0\t 0.8295 \t718 \t 0.0270\n",
      "----------------------------------------\n",
      "0\t 3.5322 \t2404 \t 0.0695\n",
      "----------------------------------------\n",
      "0\t 1.6445 \t551 \t 0.0546\n",
      "----------------------------------------\n",
      "0\t 0.9818 \t341 \t 0.0324\n",
      "----------------------------------------\n",
      "0\t 6.0487 \t1426 \t 0.1018\n",
      "----------------------------------------\n",
      "0\t 2.3434 \t1484 \t 0.0412\n",
      "----------------------------------------\n",
      "0\t 3.4764 \t760 \t 0.1141\n",
      "----------------------------------------\n",
      "0\t 1.0815 \t241 \t 0.0451\n",
      "----------------------------------------\n",
      "0\t 8.6994 \t1109 \t 0.1728\n",
      "----------------------------------------\n",
      "0\t 0.8538 \t202 \t 0.0369\n",
      "----------------------------------------\n",
      "0\t 0.7674 \t196 \t 0.0328\n",
      "----------------------------------------\n",
      "0\t 2.8216 \t449 \t 0.0879\n",
      "----------------------------------------\n",
      "0\t 1.2918 \t385 \t 0.0544\n",
      "----------------------------------------\n",
      "0\t 1.9718 \t447 \t 0.0652\n",
      "----------------------------------------\n",
      "0\t 1.2569 \t489 \t 0.0478\n",
      "----------------------------------------\n",
      "0\t 1.4513 \t437 \t 0.0451\n",
      "----------------------------------------\n",
      "0\t 1.6889 \t299 \t 0.0527\n",
      "----------------------------------------\n",
      "0\t 1.4436 \t341 \t 0.0569\n",
      "----------------------------------------\n",
      "0\t 3.4100 \t2119 \t 0.0644\n",
      "----------------------------------------\n",
      "0\t 40.4895 \t2663 \t 0.3302\n",
      "----------------------------------------\n",
      "0\t 1.4432 \t223 \t 0.0589\n",
      "----------------------------------------\n",
      "0\t 0.5025 \t92 \t 0.0266\n",
      "----------------------------------------\n",
      "0\t 0.6752 \t222 \t 0.0270\n",
      "----------------------------------------\n",
      "0\t 1.0327 \t393 \t 0.0311\n",
      "----------------------------------------\n",
      "0\t 2.6073 \t431 \t 0.0871\n",
      "----------------------------------------\n",
      "0\t 2.5909 \t375 \t 0.0821\n",
      "----------------------------------------\n",
      "0\t 9.7166 \t3127 \t 0.1969\n",
      "----------------------------------------\n",
      "0\t 6.8964 \t2577 \t 0.1178\n",
      "----------------------------------------\n",
      "0\t 1.9949 \t552 \t 0.0518\n",
      "----------------------------------------\n",
      "0\t 13.8501 \t1060 \t 0.2313\n",
      "----------------------------------------\n",
      "0\t 5.1748 \t528 \t 0.1436\n",
      "----------------------------------------\n",
      "0\t 0.6508 \t215 \t 0.0269\n",
      "----------------------------------------\n",
      "0\t 1.4532 \t230 \t 0.0562\n",
      "----------------------------------------\n",
      "0\t 2.5849 \t391 \t 0.0740\n",
      "----------------------------------------\n",
      "0\t 4.1726 \t972 \t 0.0984\n",
      "----------------------------------------\n",
      "0\t 15.4314 \t1409 \t 0.2074\n",
      "----------------------------------------\n",
      "0\t 1.4599 \t438 \t 0.0462\n",
      "----------------------------------------\n",
      "0\t 1.5233 \t386 \t 0.0550\n",
      "----------------------------------------\n",
      "0\t 18.0573 \t1652 \t 0.2249\n",
      "----------------------------------------\n",
      "0\t 12.0773 \t2099 \t 0.2594\n",
      "----------------------------------------\n",
      "0\t 1.6258 \t713 \t 0.0638\n",
      "----------------------------------------\n",
      "0\t 0.9752 \t273 \t 0.0342\n",
      "----------------------------------------\n",
      "0\t 9.6186 \t841 \t 0.2091\n",
      "----------------------------------------\n",
      "0\t 1.4672 \t798 \t 0.0526\n",
      "----------------------------------------\n",
      "0\t 1.7870 \t331 \t 0.0755\n",
      "----------------------------------------\n",
      "0\t 0.7505 \t188 \t 0.0374\n",
      "----------------------------------------\n",
      "0\t 7.8162 \t1490 \t 0.1309\n",
      "----------------------------------------\n",
      "0\t 1.3578 \t355 \t 0.0524\n",
      "----------------------------------------\n",
      "0\t 0.7615 \t216 \t 0.0307\n",
      "----------------------------------------\n",
      "0\t 2.9442 \t362 \t 0.0889\n",
      "----------------------------------------\n",
      "0\t 1.0546 \t545 \t 0.0293\n",
      "----------------------------------------\n",
      "0\t 8.9320 \t944 \t 0.1744\n",
      "----------------------------------------\n",
      "0\t 1.6578 \t2731 \t 0.0333\n",
      "----------------------------------------\n",
      "0\t 5.4652 \t1091 \t 0.0917\n",
      "----------------------------------------\n",
      "0\t 3.0494 \t560 \t 0.0903\n",
      "----------------------------------------\n",
      "0\t 1.0434 \t862 \t 0.0274\n",
      "----------------------------------------\n",
      "0\t 13.6672 \t1314 \t 0.2247\n",
      "----------------------------------------\n",
      "0\t 41.3004 \t2323 \t 0.2973\n",
      "----------------------------------------\n",
      "0\t 1.1671 \t557 \t 0.0354\n",
      "----------------------------------------\n",
      "0\t 6.6643 \t1104 \t 0.1454\n",
      "----------------------------------------\n",
      "0\t 5.6651 \t637 \t 0.1445\n",
      "----------------------------------------\n",
      "0\t 1.1905 \t507 \t 0.0413\n",
      "----------------------------------------\n",
      "0\t 4.2640 \t1033 \t 0.1546\n",
      "----------------------------------------\n",
      "0\t 0.8844 \t199 \t 0.0425\n",
      "----------------------------------------\n",
      "0\t 3.3747 \t1845 \t 0.0944\n",
      "----------------------------------------\n",
      "0\t 6.4674 \t2330 \t 0.1210\n",
      "----------------------------------------\n",
      "0\t 14.6922 \t3362 \t 0.1988\n",
      "----------------------------------------\n",
      "0\t 3.7982 \t1074 \t 0.0931\n",
      "----------------------------------------\n",
      "0\t 2.1969 \t444 \t 0.0757\n",
      "----------------------------------------\n",
      "0\t 2.4752 \t1122 \t 0.0376\n",
      "----------------------------------------\n",
      "0\t 3.3349 \t1081 \t 0.0762\n",
      "----------------------------------------\n",
      "0\t 0.6021 \t294 \t 0.0299\n",
      "----------------------------------------\n",
      "0\t 2.7048 \t496 \t 0.0756\n",
      "----------------------------------------\n",
      "0\t 0.7091 \t153 \t 0.0316\n",
      "----------------------------------------\n",
      "0\t 1.2316 \t331 \t 0.0382\n",
      "----------------------------------------\n",
      "0\t 16.2677 \t1127 \t 0.2653\n",
      "----------------------------------------\n",
      "0\t 2.1166 \t985 \t 0.0363\n",
      "----------------------------------------\n",
      "0\t 11.7425 \t2219 \t 0.2046\n",
      "----------------------------------------\n",
      "0\t 3.6662 \t540 \t 0.1094\n",
      "----------------------------------------\n",
      "0\t 5.4592 \t509 \t 0.1308\n",
      "----------------------------------------\n",
      "0\t 0.9399 \t324 \t 0.0473\n",
      "----------------------------------------\n",
      "0\t 0.8182 \t131 \t 0.0409\n",
      "----------------------------------------\n",
      "0\t 3.8874 \t784 \t 0.1046\n",
      "----------------------------------------\n",
      "0\t 0.8198 \t137 \t 0.0370\n",
      "----------------------------------------\n",
      "0\t 4.5077 \t553 \t 0.1282\n",
      "----------------------------------------\n",
      "0\t 2.2328 \t425 \t 0.0822\n",
      "----------------------------------------\n",
      "0\t 2.1880 \t528 \t 0.0846\n",
      "----------------------------------------\n",
      "0\t 2.2382 \t902 \t 0.0671\n",
      "----------------------------------------\n",
      "0\t 2.5516 \t1814 \t 0.0645\n",
      "----------------------------------------\n",
      "0\t 0.8062 \t143 \t 0.0369\n",
      "----------------------------------------\n",
      "0\t 19.1980 \t6029 \t 0.2262\n",
      "----------------------------------------\n",
      "0\t 3.3482 \t596 \t 0.0837\n",
      "----------------------------------------\n",
      "0\t 4.0709 \t772 \t 0.1081\n",
      "----------------------------------------\n",
      "0\t 1.1194 \t694 \t 0.0279\n",
      "----------------------------------------\n",
      "0\t 11.5731 \t2107 \t 0.2112\n"
     ]
    }
   ],
   "source": [
    "print(f'Min \\t Average \\t Max \\t Prob>0')\n",
    "for item in num_cols:\n",
    "    print('-'*40)\n",
    "    prob = sum(data[item] > 0) / data[item].shape[0]\n",
    "    print(f'{data[item].min()}\\t{data[item].mean(): .4f} \\t{data[item].max()} \\t {prob:.4f}')"
   ]
  },
  {
   "cell_type": "code",
   "execution_count": 34,
   "metadata": {
    "scrolled": true
   },
   "outputs": [
    {
     "name": "stdout",
     "output_type": "stream",
     "text": [
      "Maximun of all maxs - 6029\n",
      "Average of all maxs - 961.464\n",
      "Minimun of all maxs - 92\n",
      "Maximun of all mins - 0\n",
      "Minimun of all mins - 0\n"
     ]
    }
   ],
   "source": [
    "print(f'Maximun of all maxs - {data[num_cols].max().max()}')\n",
    "print(f'Average of all maxs - {data[num_cols].max().mean()}')\n",
    "print(f'Minimun of all maxs - {data[num_cols].max().min()}')\n",
    "print(f'Maximun of all mins - {data[num_cols].min().max()}')\n",
    "print(f'Minimun of all mins - {data[num_cols].min().min()}')"
   ]
  },
  {
   "cell_type": "code",
   "execution_count": 35,
   "metadata": {},
   "outputs": [
    {
     "data": {
      "image/png": "[encoded data removed]",
      "text/plain": [
       "<Figure size 432x288 with 1 Axes>"
      ]
     },
     "metadata": {},
     "output_type": "display_data"
    }
   ],
   "source": [
    "sns.distplot(data[num_cols[0]]);"
   ]
  },
  {
   "cell_type": "code",
   "execution_count": 36,
   "metadata": {},
   "outputs": [
    {
     "data": {
      "image/png": "[encoded data removed]",
      "text/plain": [
       "<Figure size 432x288 with 1 Axes>"
      ]
     },
     "metadata": {},
     "output_type": "display_data"
    }
   ],
   "source": [
    "sns.boxplot(data = data, x = num_cols[0],orient=\"v\");"
   ]
  },
  {
   "cell_type": "markdown",
   "metadata": {},
   "source": [
    "Problem:\n",
    "\n",
    "1. All the continuous cols have large number of zeros, and other values are counting value.\n",
    "2. The solutions I stumble accross are - `Two-part-models(twopm)`, `hurdle models` and `zero inflated poisson models(ZIP)`\n",
    "3. These models thinks the target variable has lots of zero and the non-zero values are not 1, if they had been 1s and 0s we could use a a classification model but they are like 0s mostly and if not zeros they are continuous variable like 100,120, 234, 898, etc.\n",
    "4. In our case our feature variable has lots of zeros."
   ]
  },
  {
   "cell_type": "code",
   "execution_count": 37,
   "metadata": {},
   "outputs": [
    {
     "data": {
      "text/plain": [
       "36       294\n",
       "39        11\n",
       "74        25\n",
       "82        30\n",
       "107       12\n",
       "        ... \n",
       "24929     20\n",
       "24936     12\n",
       "24957     22\n",
       "24967     12\n",
       "24990     31\n",
       "Name: ABILIFY, Length: 1592, dtype: int64"
      ]
     },
     "execution_count": 37,
     "metadata": {},
     "output_type": "execute_result"
    }
   ],
   "source": [
    "data[data[num_cols[0]] > 0][num_cols[0]]"
   ]
  },
  {
   "cell_type": "code",
   "execution_count": 38,
   "metadata": {},
   "outputs": [
    {
     "data": {
      "image/png": "[encoded data removed]",
      "text/plain": [
       "<Figure size 432x288 with 1 Axes>"
      ]
     },
     "metadata": {},
     "output_type": "display_data"
    }
   ],
   "source": [
    "temp = 245\n",
    "sns.distplot(data[data[num_cols[temp]] > 0][num_cols[temp]]);"
   ]
  },
  {
   "cell_type": "code",
   "execution_count": 39,
   "metadata": {},
   "outputs": [
    {
     "data": {
      "image/png": "[encoded data removed]",
      "text/plain": [
       "<Figure size 432x288 with 1 Axes>"
      ]
     },
     "metadata": {},
     "output_type": "display_data"
    }
   ],
   "source": [
    "temp = 5\n",
    "sns.distplot(np.log(data[data[num_cols[temp]] > 0][num_cols[temp]]));"
   ]
  },
  {
   "cell_type": "code",
   "execution_count": 40,
   "metadata": {},
   "outputs": [
    {
     "data": {
      "image/png": "[encoded data removed]",
      "text/plain": [
       "<Figure size 432x288 with 1 Axes>"
      ]
     },
     "metadata": {},
     "output_type": "display_data"
    }
   ],
   "source": [
    "from sklearn.preprocessing import power_transform\n",
    "\n",
    "temp = 5\n",
    "# data_without_0 = data[data[num_cols[temp]] > 0][num_cols[temp]]\n",
    "data_without_0 = data[num_cols[temp]]\n",
    "data_0 = np.array(data_without_0).reshape(-1,1)\n",
    "data_0_trans = power_transform(data_0, method='yeo-johnson')\n",
    "sns.distplot(data_0_trans);"
   ]
  },
  {
   "cell_type": "code",
   "execution_count": 41,
   "metadata": {},
   "outputs": [
    {
     "data": {
      "image/png": "[encoded data removed]",
      "text/plain": [
       "<Figure size 432x288 with 1 Axes>"
      ]
     },
     "metadata": {},
     "output_type": "display_data"
    }
   ],
   "source": [
    "temp = 5\n",
    "# data_without_0 = data[data[num_cols[temp]] > 0][num_cols[temp]]\n",
    "data_without_0 = data[num_cols[temp]]\n",
    "data_0 = np.array(data_without_0).reshape(-1,1)\n",
    "data_0_trans = power_transform(data_0+1, method='box-cox')\n",
    "# data_0_trans = np.log(data_0 + 1 )\n",
    "# data_0\n",
    "sns.distplot(data_0_trans);"
   ]
  },
  {
   "cell_type": "code",
   "execution_count": 42,
   "metadata": {},
   "outputs": [],
   "source": [
    "from sklearn.decomposition import PCA"
   ]
  },
  {
   "cell_type": "code",
   "execution_count": 43,
   "metadata": {},
   "outputs": [],
   "source": [
    "pca = PCA(n_components=0.8,svd_solver='full')\n",
    "# pca = PCA(n_components='mle',svd_solver='full')"
   ]
  },
  {
   "cell_type": "code",
   "execution_count": 44,
   "metadata": {},
   "outputs": [
    {
     "data": {
      "text/plain": [
       "PCA(n_components=0.8, svd_solver='full')"
      ]
     },
     "execution_count": 44,
     "metadata": {},
     "output_type": "execute_result"
    }
   ],
   "source": [
    "pca.fit(data[num_cols])"
   ]
  },
  {
   "cell_type": "code",
   "execution_count": 45,
   "metadata": {
    "scrolled": true
   },
   "outputs": [
    {
     "data": {
      "text/plain": [
       "array([0.50149694, 0.06441323, 0.04289872, 0.03310625, 0.02668311,\n",
       "       0.02305797, 0.01644752, 0.01499662, 0.01458039, 0.01276859,\n",
       "       0.01228911, 0.01096668, 0.01005384, 0.00937579, 0.00868693])"
      ]
     },
     "execution_count": 45,
     "metadata": {},
     "output_type": "execute_result"
    }
   ],
   "source": [
    "pca_var_ratio = pca.explained_variance_ratio_\n",
    "pca_var_ratio"
   ]
  },
  {
   "cell_type": "code",
   "execution_count": 46,
   "metadata": {},
   "outputs": [
    {
     "data": {
      "text/plain": [
       "15"
      ]
     },
     "execution_count": 46,
     "metadata": {},
     "output_type": "execute_result"
    }
   ],
   "source": [
    "len(pca_var_ratio)"
   ]
  },
  {
   "cell_type": "code",
   "execution_count": 47,
   "metadata": {},
   "outputs": [
    {
     "data": {
      "image/png": "[encoded data removed]",
      "text/plain": [
       "<Figure size 432x288 with 1 Axes>"
      ]
     },
     "metadata": {},
     "output_type": "display_data"
    }
   ],
   "source": [
    "plt.plot(pca_var_ratio[:],'-*');"
   ]
  },
  {
   "cell_type": "code",
   "execution_count": 48,
   "metadata": {},
   "outputs": [
    {
     "data": {
      "text/plain": [
       "0.7504493498688127"
      ]
     },
     "execution_count": 48,
     "metadata": {},
     "output_type": "execute_result"
    }
   ],
   "source": [
    "sum(pca_var_ratio[:10])"
   ]
  },
  {
   "cell_type": "markdown",
   "metadata": {},
   "source": [
    "### Train test split and data saving"
   ]
  },
  {
   "cell_type": "code",
   "execution_count": 49,
   "metadata": {},
   "outputs": [],
   "source": [
    "# train test split\n",
    "from sklearn.model_selection import train_test_split"
   ]
  },
  {
   "cell_type": "code",
   "execution_count": 52,
   "metadata": {},
   "outputs": [],
   "source": [
    "X = data.drop(target,axis=1)\n",
    "y = data[target]\n",
    "X_train, X_test, y_train, y_test = train_test_split(X,y, test_size=0.20, random_state=1)"
   ]
  },
  {
   "cell_type": "code",
   "execution_count": 61,
   "metadata": {},
   "outputs": [],
   "source": [
    "pd.concat([X_train,y_train],axis=1).to_csv('../data/train.csv')\n",
    "pd.concat([X_test,y_test],axis=1).to_csv('../data/test.csv')"
   ]
  }
 ],
 "metadata": {
  "kernelspec": {
   "display_name": "Python 3.8.5 64-bit ('fop': conda)",
   "language": "python",
   "name": "python38564bitfopconda92cc46f9b3c2401aadcd233b327c3156"
  },
  "language_info": {
   "codemirror_mode": {
    "name": "ipython",
    "version": 3
   },
   "file_extension": ".py",
   "mimetype": "text/x-python",
   "name": "python",
   "nbconvert_exporter": "python",
   "pygments_lexer": "ipython3",
   "version": "3.8.5"
  },
  "varInspector": {
   "cols": {
    "lenName": 16,
    "lenType": 16,
    "lenVar": 40
   },
   "kernels_config": {
    "python": {
     "delete_cmd_postfix": "",
     "delete_cmd_prefix": "del ",
     "library": "var_list.py",
     "varRefreshCmd": "print(var_dic_list())"
    },
    "r": {
     "delete_cmd_postfix": ") ",
     "delete_cmd_prefix": "rm(",
     "library": "var_list.r",
     "varRefreshCmd": "cat(var_dic_list()) "
    }
   },
   "types_to_exclude": [
    "module",
    "function",
    "builtin_function_or_method",
    "instance",
    "_Feature"
   ],
   "window_display": false
  }
 },
 "nbformat": 4,
 "nbformat_minor": 2
}
