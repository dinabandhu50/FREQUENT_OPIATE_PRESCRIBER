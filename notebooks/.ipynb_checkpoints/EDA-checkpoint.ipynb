{
 "cells": [
  {
   "cell_type": "markdown",
   "metadata": {},
   "source": [
    "# Frequent opiate prescriber"
   ]
  },
  {
   "cell_type": "code",
   "execution_count": 3,
   "metadata": {},
   "outputs": [],
   "source": [
    "import pandas as pd \n",
    "import numpy as np \n",
    "import matplotlib.pyplot as plt\n",
    "import seaborn as sns\n",
    "\n",
    "import preprocess as pp\n",
    "\n",
    "sns.set(style=\"darkgrid\")"
   ]
  },
  {
   "cell_type": "code",
   "execution_count": 4,
   "metadata": {},
   "outputs": [],
   "source": [
    "data = pd.read_csv('../data/prescriber-info.csv')"
   ]
  },
  {
   "cell_type": "code",
   "execution_count": 5,
   "metadata": {},
   "outputs": [
    {
     "data": {
      "text/html": [
       "<div>\n",
       "<style scoped>\n",
       "    .dataframe tbody tr th:only-of-type {\n",
       "        vertical-align: middle;\n",
       "    }\n",
       "\n",
       "    .dataframe tbody tr th {\n",
       "        vertical-align: top;\n",
       "    }\n",
       "\n",
       "    .dataframe thead th {\n",
       "        text-align: right;\n",
       "    }\n",
       "</style>\n",
       "<table border=\"1\" class=\"dataframe\">\n",
       "  <thead>\n",
       "    <tr style=\"text-align: right;\">\n",
       "      <th></th>\n",
       "      <th>NPI</th>\n",
       "      <th>Gender</th>\n",
       "      <th>State</th>\n",
       "      <th>Credentials</th>\n",
       "      <th>Specialty</th>\n",
       "      <th>ABILIFY</th>\n",
       "      <th>ACETAMINOPHEN.CODEINE</th>\n",
       "      <th>ACYCLOVIR</th>\n",
       "      <th>ADVAIR.DISKUS</th>\n",
       "      <th>AGGRENOX</th>\n",
       "      <th>...</th>\n",
       "      <th>VERAPAMIL.ER</th>\n",
       "      <th>VESICARE</th>\n",
       "      <th>VOLTAREN</th>\n",
       "      <th>VYTORIN</th>\n",
       "      <th>WARFARIN.SODIUM</th>\n",
       "      <th>XARELTO</th>\n",
       "      <th>ZETIA</th>\n",
       "      <th>ZIPRASIDONE.HCL</th>\n",
       "      <th>ZOLPIDEM.TARTRATE</th>\n",
       "      <th>Opioid.Prescriber</th>\n",
       "    </tr>\n",
       "  </thead>\n",
       "  <tbody>\n",
       "    <tr>\n",
       "      <th>0</th>\n",
       "      <td>1710982582</td>\n",
       "      <td>M</td>\n",
       "      <td>TX</td>\n",
       "      <td>DDS</td>\n",
       "      <td>Dentist</td>\n",
       "      <td>0</td>\n",
       "      <td>0</td>\n",
       "      <td>0</td>\n",
       "      <td>0</td>\n",
       "      <td>0</td>\n",
       "      <td>...</td>\n",
       "      <td>0</td>\n",
       "      <td>0</td>\n",
       "      <td>0</td>\n",
       "      <td>0</td>\n",
       "      <td>0</td>\n",
       "      <td>0</td>\n",
       "      <td>0</td>\n",
       "      <td>0</td>\n",
       "      <td>0</td>\n",
       "      <td>1</td>\n",
       "    </tr>\n",
       "    <tr>\n",
       "      <th>1</th>\n",
       "      <td>1245278100</td>\n",
       "      <td>F</td>\n",
       "      <td>AL</td>\n",
       "      <td>MD</td>\n",
       "      <td>General Surgery</td>\n",
       "      <td>0</td>\n",
       "      <td>0</td>\n",
       "      <td>0</td>\n",
       "      <td>0</td>\n",
       "      <td>0</td>\n",
       "      <td>...</td>\n",
       "      <td>0</td>\n",
       "      <td>0</td>\n",
       "      <td>0</td>\n",
       "      <td>0</td>\n",
       "      <td>0</td>\n",
       "      <td>0</td>\n",
       "      <td>0</td>\n",
       "      <td>0</td>\n",
       "      <td>35</td>\n",
       "      <td>1</td>\n",
       "    </tr>\n",
       "    <tr>\n",
       "      <th>2</th>\n",
       "      <td>1427182161</td>\n",
       "      <td>F</td>\n",
       "      <td>NY</td>\n",
       "      <td>M.D.</td>\n",
       "      <td>General Practice</td>\n",
       "      <td>0</td>\n",
       "      <td>0</td>\n",
       "      <td>0</td>\n",
       "      <td>0</td>\n",
       "      <td>0</td>\n",
       "      <td>...</td>\n",
       "      <td>0</td>\n",
       "      <td>0</td>\n",
       "      <td>0</td>\n",
       "      <td>0</td>\n",
       "      <td>0</td>\n",
       "      <td>0</td>\n",
       "      <td>0</td>\n",
       "      <td>0</td>\n",
       "      <td>25</td>\n",
       "      <td>0</td>\n",
       "    </tr>\n",
       "    <tr>\n",
       "      <th>3</th>\n",
       "      <td>1669567541</td>\n",
       "      <td>M</td>\n",
       "      <td>AZ</td>\n",
       "      <td>MD</td>\n",
       "      <td>Internal Medicine</td>\n",
       "      <td>0</td>\n",
       "      <td>43</td>\n",
       "      <td>0</td>\n",
       "      <td>0</td>\n",
       "      <td>0</td>\n",
       "      <td>...</td>\n",
       "      <td>0</td>\n",
       "      <td>0</td>\n",
       "      <td>0</td>\n",
       "      <td>0</td>\n",
       "      <td>0</td>\n",
       "      <td>0</td>\n",
       "      <td>0</td>\n",
       "      <td>0</td>\n",
       "      <td>0</td>\n",
       "      <td>1</td>\n",
       "    </tr>\n",
       "    <tr>\n",
       "      <th>4</th>\n",
       "      <td>1679650949</td>\n",
       "      <td>M</td>\n",
       "      <td>NV</td>\n",
       "      <td>M.D.</td>\n",
       "      <td>Hematology/Oncology</td>\n",
       "      <td>0</td>\n",
       "      <td>0</td>\n",
       "      <td>0</td>\n",
       "      <td>0</td>\n",
       "      <td>0</td>\n",
       "      <td>...</td>\n",
       "      <td>0</td>\n",
       "      <td>0</td>\n",
       "      <td>0</td>\n",
       "      <td>0</td>\n",
       "      <td>17</td>\n",
       "      <td>28</td>\n",
       "      <td>0</td>\n",
       "      <td>0</td>\n",
       "      <td>0</td>\n",
       "      <td>1</td>\n",
       "    </tr>\n",
       "  </tbody>\n",
       "</table>\n",
       "<p>5 rows × 256 columns</p>\n",
       "</div>"
      ],
      "text/plain": [
       "          NPI Gender State Credentials            Specialty  ABILIFY  \\\n",
       "0  1710982582      M    TX         DDS              Dentist        0   \n",
       "1  1245278100      F    AL          MD      General Surgery        0   \n",
       "2  1427182161      F    NY        M.D.     General Practice        0   \n",
       "3  1669567541      M    AZ          MD    Internal Medicine        0   \n",
       "4  1679650949      M    NV        M.D.  Hematology/Oncology        0   \n",
       "\n",
       "   ACETAMINOPHEN.CODEINE  ACYCLOVIR  ADVAIR.DISKUS  AGGRENOX  ...  \\\n",
       "0                      0          0              0         0  ...   \n",
       "1                      0          0              0         0  ...   \n",
       "2                      0          0              0         0  ...   \n",
       "3                     43          0              0         0  ...   \n",
       "4                      0          0              0         0  ...   \n",
       "\n",
       "   VERAPAMIL.ER  VESICARE  VOLTAREN  VYTORIN  WARFARIN.SODIUM  XARELTO  ZETIA  \\\n",
       "0             0         0         0        0                0        0      0   \n",
       "1             0         0         0        0                0        0      0   \n",
       "2             0         0         0        0                0        0      0   \n",
       "3             0         0         0        0                0        0      0   \n",
       "4             0         0         0        0               17       28      0   \n",
       "\n",
       "   ZIPRASIDONE.HCL  ZOLPIDEM.TARTRATE  Opioid.Prescriber  \n",
       "0                0                  0                  1  \n",
       "1                0                 35                  1  \n",
       "2                0                 25                  0  \n",
       "3                0                  0                  1  \n",
       "4                0                  0                  1  \n",
       "\n",
       "[5 rows x 256 columns]"
      ]
     },
     "execution_count": 5,
     "metadata": {},
     "output_type": "execute_result"
    }
   ],
   "source": [
    "data.head()"
   ]
  },
  {
   "cell_type": "markdown",
   "metadata": {},
   "source": [
    "## Variable Separation"
   ]
  },
  {
   "cell_type": "code",
   "execution_count": 6,
   "metadata": {},
   "outputs": [],
   "source": [
    "uniq_cols = ['NPI']"
   ]
  },
  {
   "cell_type": "code",
   "execution_count": 7,
   "metadata": {
    "tags": []
   },
   "outputs": [
    {
     "data": {
      "text/plain": [
       "['Gender', 'State', 'Credentials', 'Specialty']"
      ]
     },
     "execution_count": 7,
     "metadata": {},
     "output_type": "execute_result"
    }
   ],
   "source": [
    "cat_cols = list(data.columns[1:5])\n",
    "cat_cols"
   ]
  },
  {
   "cell_type": "code",
   "execution_count": 8,
   "metadata": {},
   "outputs": [],
   "source": [
    "num_cols = list(data.columns[5:-1])\n",
    "num_cols;"
   ]
  },
  {
   "cell_type": "code",
   "execution_count": 9,
   "metadata": {},
   "outputs": [
    {
     "data": {
      "text/plain": [
       "['Opioid.Prescriber']"
      ]
     },
     "execution_count": 9,
     "metadata": {},
     "output_type": "execute_result"
    }
   ],
   "source": [
    "target = [data.columns[-1]]\n",
    "target"
   ]
  },
  {
   "cell_type": "markdown",
   "metadata": {},
   "source": [
    "## Categorical Variable Analysis & EDA"
   ]
  },
  {
   "cell_type": "markdown",
   "metadata": {},
   "source": [
    "### Missing values"
   ]
  },
  {
   "cell_type": "code",
   "execution_count": 10,
   "metadata": {},
   "outputs": [
    {
     "data": {
      "text/plain": [
       "Gender           0\n",
       "State            0\n",
       "Credentials    763\n",
       "Specialty        0\n",
       "dtype: int64"
      ]
     },
     "execution_count": 10,
     "metadata": {},
     "output_type": "execute_result"
    }
   ],
   "source": [
    "# chcking for missing values\n",
    "data[cat_cols].isnull().sum()"
   ]
  },
  {
   "cell_type": "code",
   "execution_count": 11,
   "metadata": {},
   "outputs": [
    {
     "data": {
      "text/plain": [
       "Gender         0.000\n",
       "State          0.000\n",
       "Credentials    3.052\n",
       "Specialty      0.000\n",
       "dtype: float64"
      ]
     },
     "execution_count": 11,
     "metadata": {},
     "output_type": "execute_result"
    }
   ],
   "source": [
    "# checking for missing value percentage\n",
    "data[cat_cols].isnull().sum()/data.shape[0] *100"
   ]
  },
  {
   "cell_type": "code",
   "execution_count": 12,
   "metadata": {},
   "outputs": [
    {
     "data": {
      "text/plain": [
       "0"
      ]
     },
     "execution_count": 12,
     "metadata": {},
     "output_type": "execute_result"
    }
   ],
   "source": [
    "# checking for null value in drugs column\n",
    "data[num_cols].isnull().sum().sum()"
   ]
  },
  {
   "cell_type": "code",
   "execution_count": 13,
   "metadata": {},
   "outputs": [
    {
     "data": {
      "text/plain": [
       "25000"
      ]
     },
     "execution_count": 13,
     "metadata": {},
     "output_type": "execute_result"
    }
   ],
   "source": [
    "data['NPI'].nunique()"
   ]
  },
  {
   "cell_type": "markdown",
   "metadata": {},
   "source": [
    "Remarks:\n",
    "\n",
    "1. We dont need `NPI` column it has all unique values.\n",
    "2. The `Credentials` column has missing values ~3% of total.\n",
    "<!-- 3. All the `med_clos` are sparse in nature -->"
   ]
  },
  {
   "cell_type": "markdown",
   "metadata": {},
   "source": [
    "### Basic plots"
   ]
  },
  {
   "cell_type": "code",
   "execution_count": 14,
   "metadata": {},
   "outputs": [
    {
     "data": {
      "text/plain": [
       "0      23833\n",
       "11       148\n",
       "12       122\n",
       "13       112\n",
       "14        93\n",
       "       ...  \n",
       "53         1\n",
       "356        1\n",
       "147        1\n",
       "99         1\n",
       "79         1\n",
       "Name: ACYCLOVIR, Length: 81, dtype: int64"
      ]
     },
     "execution_count": 14,
     "metadata": {},
     "output_type": "execute_result"
    }
   ],
   "source": [
    "data[num_cols].iloc[:,2].value_counts()"
   ]
  },
  {
   "cell_type": "code",
   "execution_count": 15,
   "metadata": {},
   "outputs": [
    {
     "data": {
      "text/plain": [
       "['Gender', 'State', 'Credentials', 'Specialty']"
      ]
     },
     "execution_count": 15,
     "metadata": {},
     "output_type": "execute_result"
    }
   ],
   "source": [
    "cat_cols"
   ]
  },
  {
   "cell_type": "code",
   "execution_count": 16,
   "metadata": {},
   "outputs": [
    {
     "name": "stdout",
     "output_type": "stream",
     "text": [
      "-------------------------\n",
      "CA    2562\n",
      "NY    1956\n",
      "FL    1570\n",
      "TX    1500\n",
      "PA    1211\n",
      "IL    1002\n",
      "OH     981\n",
      "MI     872\n",
      "NC     778\n",
      "MA     725\n",
      "NJ     649\n",
      "GA     613\n",
      "WA     578\n",
      "VA     568\n",
      "TN     552\n",
      "IN     533\n",
      "MD     509\n",
      "AZ     509\n",
      "WI     498\n",
      "MO     483\n",
      "MN     448\n",
      "CO     393\n",
      "SC     390\n",
      "CT     388\n",
      "KY     367\n",
      "LA     354\n",
      "OR     344\n",
      "AL     344\n",
      "OK     281\n",
      "PR     231\n",
      "IA     225\n",
      "AR     216\n",
      "KS     203\n",
      "WV     199\n",
      "MS     193\n",
      "NM     166\n",
      "UT     162\n",
      "NV     155\n",
      "ME     147\n",
      "NE     137\n",
      "ID     133\n",
      "NH     119\n",
      "RI     117\n",
      "DE      91\n",
      "HI      91\n",
      "SD      83\n",
      "DC      79\n",
      "MT      77\n",
      "ND      66\n",
      "VT      65\n",
      "AK      39\n",
      "WY      38\n",
      "VI       3\n",
      "ZZ       2\n",
      "AE       2\n",
      "GU       2\n",
      "AA       1\n",
      "Name: State, dtype: int64\n",
      "-------------------------\n",
      "MD             7034\n",
      "M.D.           6772\n",
      "DDS            1145\n",
      "D.O.            866\n",
      "PA-C            845\n",
      "               ... \n",
      "MD,PA             1\n",
      "CNM C             1\n",
      "FACEP MD          1\n",
      "F.N.P.-C.         1\n",
      "DDS, MS, PC       1\n",
      "Name: Credentials, Length: 887, dtype: int64\n",
      "-------------------------\n",
      "Internal Medicine                  3194\n",
      "Family Practice                    2975\n",
      "Dentist                            2800\n",
      "Nurse Practitioner                 2512\n",
      "Physician Assistant                1839\n",
      "                                   ... \n",
      "Clinical Pharmacology                 1\n",
      "Behavioral Analyst                    1\n",
      "Licensed Clinical Social Worker       1\n",
      "Health Maintenance Organization       1\n",
      "Midwife                               1\n",
      "Name: Specialty, Length: 109, dtype: int64\n"
     ]
    }
   ],
   "source": [
    "for item in cat_cols[1:]:\n",
    "    print('-'*25)\n",
    "    print(data[item].value_counts())\n"
   ]
  },
  {
   "cell_type": "code",
   "execution_count": 17,
   "metadata": {},
   "outputs": [
    {
     "data": {
      "text/plain": [
       "['Gender', 'State', 'Credentials', 'Specialty']"
      ]
     },
     "execution_count": 17,
     "metadata": {},
     "output_type": "execute_result"
    }
   ],
   "source": [
    "cat_cols"
   ]
  },
  {
   "cell_type": "code",
   "execution_count": 18,
   "metadata": {},
   "outputs": [],
   "source": [
    "# Gender analysis"
   ]
  },
  {
   "cell_type": "code",
   "execution_count": 19,
   "metadata": {},
   "outputs": [
    {
     "data": {
      "image/png": "[encoded data removed]",
      "text/plain": [
       "<Figure size 504x360 with 1 Axes>"
      ]
     },
     "metadata": {},
     "output_type": "display_data"
    }
   ],
   "source": [
    "plt.figure(figsize=(7,5))\n",
    "sns.countplot(data=data,x='Gender')\n",
    "plt.title('Count plot of Gender column')\n",
    "plt.show()"
   ]
  },
  {
   "cell_type": "code",
   "execution_count": 20,
   "metadata": {},
   "outputs": [],
   "source": [
    "# State column"
   ]
  },
  {
   "cell_type": "code",
   "execution_count": 21,
   "metadata": {
    "scrolled": true
   },
   "outputs": [
    {
     "data": {
      "image/png": "[encoded data removed]",
      "text/plain": [
       "<Figure size 1080x360 with 1 Axes>"
      ]
     },
     "metadata": {},
     "output_type": "display_data"
    }
   ],
   "source": [
    "plt.figure(figsize=(15,5))\n",
    "sns.countplot(data=data,x='State')\n",
    "plt.title('Count plot of State column')\n",
    "plt.show()"
   ]
  },
  {
   "cell_type": "code",
   "execution_count": 22,
   "metadata": {},
   "outputs": [],
   "source": [
    "# lets check out `Speciality` column"
   ]
  },
  {
   "cell_type": "code",
   "execution_count": 23,
   "metadata": {},
   "outputs": [
    {
     "data": {
      "text/plain": [
       "109"
      ]
     },
     "execution_count": 23,
     "metadata": {},
     "output_type": "execute_result"
    }
   ],
   "source": [
    "data['Specialty'].nunique()"
   ]
  },
  {
   "cell_type": "code",
   "execution_count": 24,
   "metadata": {},
   "outputs": [
    {
     "data": {
      "image/png": "[encoded data removed]",
      "text/plain": [
       "<Figure size 1440x360 with 1 Axes>"
      ]
     },
     "metadata": {},
     "output_type": "display_data"
    }
   ],
   "source": [
    "plt.figure(figsize=(20,5))\n",
    "sns.countplot(data=data,x='Specialty')\n",
    "plt.title('Count plot of Specialty column')\n",
    "plt.xticks(rotation=90)\n",
    "plt.show()"
   ]
  },
  {
   "cell_type": "code",
   "execution_count": 25,
   "metadata": {
    "scrolled": false
   },
   "outputs": [
    {
     "data": {
      "text/plain": [
       "Internal Medicine                                                 3194\n",
       "Family Practice                                                   2975\n",
       "Dentist                                                           2800\n",
       "Nurse Practitioner                                                2512\n",
       "Physician Assistant                                               1839\n",
       "Emergency Medicine                                                1087\n",
       "Psychiatry                                                         691\n",
       "Cardiology                                                         688\n",
       "Obstetrics/Gynecology                                              615\n",
       "Orthopedic Surgery                                                 575\n",
       "Optometry                                                          571\n",
       "Student in an Organized Health Care Education/Training Program     547\n",
       "Ophthalmology                                                      519\n",
       "General Surgery                                                    487\n",
       "Gastroenterology                                                   399\n",
       "Neurology                                                          371\n",
       "Podiatry                                                           369\n",
       "Dermatology                                                        344\n",
       "Urology                                                            328\n",
       "Psychiatry & Neurology                                             266\n",
       "Name: Specialty, dtype: int64"
      ]
     },
     "execution_count": 25,
     "metadata": {},
     "output_type": "execute_result"
    }
   ],
   "source": [
    "data['Specialty'].value_counts()[:20]"
   ]
  },
  {
   "cell_type": "code",
   "execution_count": 26,
   "metadata": {},
   "outputs": [],
   "source": [
    "# filling missing values with mean"
   ]
  },
  {
   "cell_type": "code",
   "execution_count": 27,
   "metadata": {},
   "outputs": [
    {
     "data": {
      "text/plain": [
       "887"
      ]
     },
     "execution_count": 27,
     "metadata": {},
     "output_type": "execute_result"
    }
   ],
   "source": [
    "data['Credentials'].nunique()"
   ]
  },
  {
   "cell_type": "code",
   "execution_count": 28,
   "metadata": {},
   "outputs": [],
   "source": [
    "data['Credentials'].value_counts()[:50];"
   ]
  },
  {
   "cell_type": "code",
   "execution_count": 29,
   "metadata": {},
   "outputs": [
    {
     "data": {
      "text/plain": [
       "TextPreprocess(variables=['Credentials'])"
      ]
     },
     "execution_count": 29,
     "metadata": {},
     "output_type": "execute_result"
    }
   ],
   "source": [
    "tpp = pp.TextPreprocess('Credentials')\n",
    "tpp.fit(data)"
   ]
  },
  {
   "cell_type": "code",
   "execution_count": 30,
   "metadata": {},
   "outputs": [],
   "source": [
    "data['Credentials'] = tpp.transform(data)['Credentials']"
   ]
  },
  {
   "cell_type": "code",
   "execution_count": 31,
   "metadata": {},
   "outputs": [
    {
     "data": {
      "text/plain": [
       "729"
      ]
     },
     "execution_count": 31,
     "metadata": {},
     "output_type": "execute_result"
    }
   ],
   "source": [
    "data['Credentials'].nunique()"
   ]
  },
  {
   "cell_type": "code",
   "execution_count": 32,
   "metadata": {},
   "outputs": [],
   "source": [
    "data['Credentials'].value_counts()[100:150];"
   ]
  },
  {
   "cell_type": "markdown",
   "metadata": {},
   "source": [
    "In `credentials` we can do lot more\n",
    "\n",
    "1. The credentals column have multiple occupation in the same row.\n",
    "2. \\[PHD, MD\\] and \\[MD, PHD\\] are treated differently.\n",
    "3. P,A, is treated different from P.A and PA\n",
    "4. MD ----- M.D. , M.D, M D, MD\\` \n",
    "5. This column is a mess"
   ]
  },
  {
   "cell_type": "code",
   "execution_count": 33,
   "metadata": {},
   "outputs": [
    {
     "data": {
      "text/plain": [
       "['Gender', 'State', 'Credentials', 'Specialty']"
      ]
     },
     "execution_count": 33,
     "metadata": {},
     "output_type": "execute_result"
    }
   ],
   "source": [
    "cat_cols"
   ]
  },
  {
   "cell_type": "markdown",
   "metadata": {},
   "source": [
    "Remarks:\n",
    "\n",
    "1. We don't need `Credentials` column which is a real mess, the `Specialty` column has the same information as of `Credentials`. \n",
    "\n",
    "2. Cat Features to remove - `NPI`, `Credentials`  \n",
    "\n",
    "3. Cat Features to keep - `Gender`,`State`,`Speciality`   \n",
    "\n"
   ]
  },
  {
   "cell_type": "markdown",
   "metadata": {},
   "source": [
    "### Numerical Variable Analysis & Engineering"
   ]
  },
  {
   "cell_type": "code",
   "execution_count": 30,
   "metadata": {},
   "outputs": [
    {
     "name": "stdout",
     "output_type": "stream",
     "text": [
      "-------------------------\n",
      "123\n",
      "-------------------------\n",
      "81\n",
      "-------------------------\n",
      "230\n",
      "-------------------------\n",
      "72\n",
      "-------------------------\n",
      "268\n",
      "-------------------------\n",
      "255\n",
      "-------------------------\n",
      "420\n",
      "-------------------------\n",
      "145\n",
      "-------------------------\n",
      "148\n",
      "-------------------------\n",
      "699\n",
      "-------------------------\n",
      "158\n",
      "-------------------------\n",
      "158\n",
      "-------------------------\n",
      "106\n",
      "-------------------------\n",
      "107\n",
      "-------------------------\n",
      "367\n",
      "-------------------------\n",
      "660\n",
      "-------------------------\n",
      "130\n",
      "-------------------------\n",
      "198\n",
      "-------------------------\n",
      "181\n",
      "-------------------------\n",
      "168\n",
      "-------------------------\n",
      "186\n",
      "-------------------------\n",
      "113\n",
      "-------------------------\n",
      "86\n",
      "-------------------------\n",
      "214\n",
      "-------------------------\n",
      "95\n",
      "-------------------------\n",
      "133\n",
      "-------------------------\n",
      "94\n",
      "-------------------------\n",
      "128\n",
      "-------------------------\n",
      "155\n",
      "-------------------------\n",
      "159\n",
      "-------------------------\n",
      "142\n",
      "-------------------------\n",
      "100\n",
      "-------------------------\n",
      "198\n",
      "-------------------------\n",
      "129\n",
      "-------------------------\n",
      "57\n",
      "-------------------------\n",
      "433\n",
      "-------------------------\n",
      "90\n",
      "-------------------------\n",
      "158\n",
      "-------------------------\n",
      "157\n",
      "-------------------------\n",
      "110\n",
      "-------------------------\n",
      "119\n",
      "-------------------------\n",
      "92\n",
      "-------------------------\n",
      "206\n",
      "-------------------------\n",
      "331\n",
      "-------------------------\n",
      "69\n",
      "-------------------------\n",
      "152\n",
      "-------------------------\n",
      "333\n",
      "-------------------------\n",
      "207\n",
      "-------------------------\n",
      "434\n",
      "-------------------------\n",
      "94\n",
      "-------------------------\n",
      "102\n",
      "-------------------------\n",
      "88\n",
      "-------------------------\n",
      "295\n",
      "-------------------------\n",
      "142\n",
      "-------------------------\n",
      "115\n",
      "-------------------------\n",
      "184\n",
      "-------------------------\n",
      "139\n",
      "-------------------------\n",
      "100\n",
      "-------------------------\n",
      "148\n",
      "-------------------------\n",
      "139\n",
      "-------------------------\n",
      "104\n",
      "-------------------------\n",
      "124\n",
      "-------------------------\n",
      "71\n",
      "-------------------------\n",
      "71\n",
      "-------------------------\n",
      "184\n",
      "-------------------------\n",
      "52\n",
      "-------------------------\n",
      "196\n",
      "-------------------------\n",
      "152\n",
      "-------------------------\n",
      "354\n",
      "-------------------------\n",
      "183\n",
      "-------------------------\n",
      "165\n",
      "-------------------------\n",
      "77\n",
      "-------------------------\n",
      "109\n",
      "-------------------------\n",
      "246\n",
      "-------------------------\n",
      "222\n",
      "-------------------------\n",
      "271\n",
      "-------------------------\n",
      "116\n",
      "-------------------------\n",
      "137\n",
      "-------------------------\n",
      "226\n",
      "-------------------------\n",
      "75\n",
      "-------------------------\n",
      "237\n",
      "-------------------------\n",
      "200\n",
      "-------------------------\n",
      "254\n",
      "-------------------------\n",
      "62\n",
      "-------------------------\n",
      "91\n",
      "-------------------------\n",
      "222\n",
      "-------------------------\n",
      "288\n",
      "-------------------------\n",
      "625\n",
      "-------------------------\n",
      "496\n",
      "-------------------------\n",
      "118\n",
      "-------------------------\n",
      "274\n",
      "-------------------------\n",
      "233\n",
      "-------------------------\n",
      "122\n",
      "-------------------------\n",
      "101\n",
      "-------------------------\n",
      "85\n",
      "-------------------------\n",
      "132\n",
      "-------------------------\n",
      "148\n",
      "-------------------------\n",
      "201\n",
      "-------------------------\n",
      "401\n",
      "-------------------------\n",
      "681\n",
      "-------------------------\n",
      "87\n",
      "-------------------------\n",
      "107\n",
      "-------------------------\n",
      "80\n",
      "-------------------------\n",
      "74\n",
      "-------------------------\n",
      "187\n",
      "-------------------------\n",
      "135\n",
      "-------------------------\n",
      "85\n",
      "-------------------------\n",
      "124\n",
      "-------------------------\n",
      "264\n",
      "-------------------------\n",
      "113\n",
      "-------------------------\n",
      "97\n",
      "-------------------------\n",
      "196\n",
      "-------------------------\n",
      "136\n",
      "-------------------------\n",
      "93\n",
      "-------------------------\n",
      "80\n",
      "-------------------------\n",
      "155\n",
      "-------------------------\n",
      "98\n",
      "-------------------------\n",
      "114\n",
      "-------------------------\n",
      "218\n",
      "-------------------------\n",
      "99\n",
      "-------------------------\n",
      "191\n",
      "-------------------------\n",
      "198\n",
      "-------------------------\n",
      "361\n",
      "-------------------------\n",
      "102\n",
      "-------------------------\n",
      "102\n",
      "-------------------------\n",
      "209\n",
      "-------------------------\n",
      "156\n",
      "-------------------------\n",
      "761\n",
      "-------------------------\n",
      "117\n",
      "-------------------------\n",
      "700\n",
      "-------------------------\n",
      "260\n",
      "-------------------------\n",
      "105\n",
      "-------------------------\n",
      "329\n",
      "-------------------------\n",
      "248\n",
      "-------------------------\n",
      "452\n",
      "-------------------------\n",
      "252\n",
      "-------------------------\n",
      "98\n",
      "-------------------------\n",
      "219\n",
      "-------------------------\n",
      "187\n",
      "-------------------------\n",
      "121\n",
      "-------------------------\n",
      "295\n",
      "-------------------------\n",
      "536\n",
      "-------------------------\n",
      "222\n",
      "-------------------------\n",
      "142\n",
      "-------------------------\n",
      "82\n",
      "-------------------------\n",
      "183\n",
      "-------------------------\n",
      "136\n",
      "-------------------------\n",
      "107\n",
      "-------------------------\n",
      "82\n",
      "-------------------------\n",
      "443\n",
      "-------------------------\n",
      "529\n",
      "-------------------------\n",
      "73\n",
      "-------------------------\n",
      "263\n",
      "-------------------------\n",
      "271\n",
      "-------------------------\n",
      "92\n",
      "-------------------------\n",
      "205\n",
      "-------------------------\n",
      "116\n",
      "-------------------------\n",
      "106\n",
      "-------------------------\n",
      "282\n",
      "-------------------------\n",
      "183\n",
      "-------------------------\n",
      "148\n",
      "-------------------------\n",
      "90\n",
      "-------------------------\n",
      "267\n",
      "-------------------------\n",
      "76\n",
      "-------------------------\n",
      "76\n",
      "-------------------------\n",
      "158\n",
      "-------------------------\n",
      "87\n",
      "-------------------------\n",
      "132\n",
      "-------------------------\n",
      "104\n",
      "-------------------------\n",
      "125\n",
      "-------------------------\n",
      "134\n",
      "-------------------------\n",
      "99\n",
      "-------------------------\n",
      "222\n",
      "-------------------------\n",
      "682\n",
      "-------------------------\n",
      "89\n",
      "-------------------------\n",
      "51\n",
      "-------------------------\n",
      "74\n",
      "-------------------------\n",
      "117\n",
      "-------------------------\n",
      "125\n",
      "-------------------------\n",
      "145\n",
      "-------------------------\n",
      "312\n",
      "-------------------------\n",
      "292\n",
      "-------------------------\n",
      "161\n",
      "-------------------------\n",
      "350\n",
      "-------------------------\n",
      "176\n",
      "-------------------------\n",
      "83\n",
      "-------------------------\n",
      "107\n",
      "-------------------------\n",
      "155\n",
      "-------------------------\n",
      "208\n",
      "-------------------------\n",
      "428\n",
      "-------------------------\n",
      "119\n",
      "-------------------------\n",
      "112\n",
      "-------------------------\n",
      "436\n",
      "-------------------------\n",
      "328\n",
      "-------------------------\n",
      "95\n",
      "-------------------------\n",
      "98\n",
      "-------------------------\n",
      "252\n",
      "-------------------------\n",
      "104\n",
      "-------------------------\n",
      "93\n",
      "-------------------------\n",
      "61\n",
      "-------------------------\n",
      "314\n",
      "-------------------------\n",
      "100\n",
      "-------------------------\n",
      "78\n",
      "-------------------------\n",
      "152\n",
      "-------------------------\n",
      "122\n",
      "-------------------------\n",
      "288\n",
      "-------------------------\n",
      "143\n",
      "-------------------------\n",
      "280\n",
      "-------------------------\n",
      "149\n",
      "-------------------------\n",
      "121\n",
      "-------------------------\n",
      "342\n",
      "-------------------------\n",
      "690\n",
      "-------------------------\n",
      "117\n",
      "-------------------------\n",
      "246\n",
      "-------------------------\n",
      "205\n",
      "-------------------------\n",
      "107\n",
      "-------------------------\n",
      "139\n",
      "-------------------------\n",
      "63\n",
      "-------------------------\n",
      "172\n",
      "-------------------------\n",
      "262\n",
      "-------------------------\n",
      "414\n",
      "-------------------------\n",
      "199\n",
      "-------------------------\n",
      "126\n",
      "-------------------------\n",
      "206\n",
      "-------------------------\n",
      "188\n",
      "-------------------------\n",
      "54\n",
      "-------------------------\n",
      "165\n",
      "-------------------------\n",
      "70\n",
      "-------------------------\n",
      "122\n",
      "-------------------------\n",
      "368\n",
      "-------------------------\n",
      "191\n",
      "-------------------------\n",
      "331\n",
      "-------------------------\n",
      "175\n",
      "-------------------------\n",
      "206\n",
      "-------------------------\n",
      "63\n",
      "-------------------------\n",
      "58\n",
      "-------------------------\n",
      "174\n",
      "-------------------------\n",
      "73\n",
      "-------------------------\n",
      "173\n",
      "-------------------------\n",
      "115\n",
      "-------------------------\n",
      "105\n",
      "-------------------------\n",
      "145\n",
      "-------------------------\n",
      "166\n",
      "-------------------------\n",
      "65\n",
      "-------------------------\n",
      "459\n",
      "-------------------------\n",
      "178\n",
      "-------------------------\n",
      "175\n",
      "-------------------------\n",
      "126\n",
      "-------------------------\n",
      "288\n"
     ]
    }
   ],
   "source": [
    "for item in num_cols[1:]:\n",
    "    print('-'*25)\n",
    "    print(data[item].nunique())\n"
   ]
  },
  {
   "cell_type": "code",
   "execution_count": 31,
   "metadata": {},
   "outputs": [
    {
     "data": {
      "text/plain": [
       "0        0\n",
       "1        0\n",
       "2        0\n",
       "3        0\n",
       "4        0\n",
       "        ..\n",
       "24995    0\n",
       "24996    0\n",
       "24997    0\n",
       "24998    0\n",
       "24999    0\n",
       "Name: ABILIFY, Length: 25000, dtype: int64"
      ]
     },
     "execution_count": 31,
     "metadata": {},
     "output_type": "execute_result"
    }
   ],
   "source": [
    "data[num_cols[0]]"
   ]
  }
 ],
 "metadata": {
  "kernelspec": {
   "display_name": "Python 3.8.5 64-bit ('fop': conda)",
   "language": "python",
   "name": "python38564bitfopconda92cc46f9b3c2401aadcd233b327c3156"
  },
  "language_info": {
   "codemirror_mode": {
    "name": "ipython",
    "version": 3
   },
   "file_extension": ".py",
   "mimetype": "text/x-python",
   "name": "python",
   "nbconvert_exporter": "python",
   "pygments_lexer": "ipython3",
   "version": "3.8.5"
  },
  "varInspector": {
   "cols": {
    "lenName": 16,
    "lenType": 16,
    "lenVar": 40
   },
   "kernels_config": {
    "python": {
     "delete_cmd_postfix": "",
     "delete_cmd_prefix": "del ",
     "library": "var_list.py",
     "varRefreshCmd": "print(var_dic_list())"
    },
    "r": {
     "delete_cmd_postfix": ") ",
     "delete_cmd_prefix": "rm(",
     "library": "var_list.r",
     "varRefreshCmd": "cat(var_dic_list()) "
    }
   },
   "types_to_exclude": [
    "module",
    "function",
    "builtin_function_or_method",
    "instance",
    "_Feature"
   ],
   "window_display": false
  }
 },
 "nbformat": 4,
 "nbformat_minor": 2
}
